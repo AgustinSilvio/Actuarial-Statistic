{
  "cells": [
    {
      "cell_type": "markdown",
      "metadata": {
        "id": "f24eacf6-146c-4d5d-a09f-42ea66d2a132"
      },
      "source": [
        "# Trabajo Práctico | Estadística Actuarial | Curso Landro - Del Rosso"
      ],
      "id": "f24eacf6-146c-4d5d-a09f-42ea66d2a132"
    },
    {
      "cell_type": "markdown",
      "source": [
        "#Autores:\n",
        "\n",
        "<p>Bocchio, Mateo. Registro: 899166.\n",
        "<p>Fernández Petrillo, Camila. Registro: 899043.\n",
        "<p>Gorbato, Ezequiel. Registro: 896447.\n",
        "<p>Huergo, Ian Matias. Registro: 899961.\n",
        "<p>Rojas, Agustin Silvio. Registro: 896355.\n",
        "<p>Schneider, Steven. Registro: 900263.\n"
      ],
      "metadata": {
        "id": "1xnk01NAR0gz"
      },
      "id": "1xnk01NAR0gz"
    },
    {
      "cell_type": "markdown",
      "metadata": {
        "id": "c5ca11af-050e-4271-8eef-5e2e2e9644be"
      },
      "source": [
        "### Instrucciones:\n",
        "* Realizar todo el trabajo en este notebook. Se puedan usar otros notebooks para hacer pruebas, pero todo el desarrollo deberá quedar plasmado aquí.\n",
        "* No modificar las celdas que tienen el encabezado:\n",
        "    ```python\n",
        "        ### --- ### NO MODIFICAR ESTA CELDA ### --- ###\n",
        "    ```\n",
        "* Cada grupo tiene una seed única que les permite generar su serie de tiempo. El valor de la misma se compone de:\n",
        "    * la suma de los últimos dos números del registro de cada uno de los miembros del grupo.\n",
        "    ```python\n",
        "        reg1 = 888888\n",
        "        reg2 = 888123\n",
        "\n",
        "\n",
        "        my_seed = 88 + 23\n",
        "        >>> 111\n",
        "    ```"
      ],
      "id": "c5ca11af-050e-4271-8eef-5e2e2e9644be"
    },
    {
      "cell_type": "code",
      "execution_count": null,
      "metadata": {
        "colab": {
          "base_uri": "https://localhost:8080/"
        },
        "id": "b81b6e66-0c7c-44b3-92da-70cf7d4b3b5b",
        "outputId": "ea6fcc73-38a2-4476-9850-090e6ab6f433"
      },
      "outputs": [
        {
          "output_type": "stream",
          "name": "stdout",
          "text": [
            "Error en el módulo TP.\n"
          ]
        }
      ],
      "source": [
        "### --- ### NO MODIFICAR ESTA CELDA ### --- ###\n",
        "\n",
        "try:\n",
        "    import funciones_tp\n",
        "except:\n",
        "    print('Error en el módulo TP.')"
      ],
      "id": "b81b6e66-0c7c-44b3-92da-70cf7d4b3b5b"
    },
    {
      "cell_type": "code",
      "execution_count": null,
      "metadata": {
        "id": "e12b7696-5f4c-4424-bcd1-90056def50c5"
      },
      "outputs": [],
      "source": [
        "# En esta celda puden importar todas las librerías que quieran\n",
        "\n",
        "import pandas as pd\n",
        "import numpy as np\n",
        "import matplotlib.pyplot as plt"
      ],
      "id": "e12b7696-5f4c-4424-bcd1-90056def50c5"
    },
    {
      "cell_type": "code",
      "execution_count": null,
      "metadata": {
        "id": "e28530b0-720b-4379-a7ac-e9a5353f7dc5"
      },
      "outputs": [],
      "source": [
        "# Acá se completa el número de la seed a usar\n",
        "\n",
        "my_seed = ...\n",
        "\n",
        "# Acá se completan los registros del grupo\n",
        "\n",
        "regs = ..."
      ],
      "id": "e28530b0-720b-4379-a7ac-e9a5353f7dc5"
    },
    {
      "cell_type": "markdown",
      "metadata": {
        "id": "1f70a939-e44b-4ae8-a678-30d0800ba290"
      },
      "source": [
        "* Para usar la función check_my_seed se le deben pasar como argumentos:\n",
        "    * seed: int64 - bajo el nombre 'my_seed'\n",
        "    * listado de registros: list con los valores siendo strings - bajo el nombre de 'regs'\n",
        "    \n",
        "    ```python\n",
        "\n",
        "        regs = ['888888', '888123']\n",
        "\n",
        "        my_seed = 111\n",
        "    ```"
      ],
      "id": "1f70a939-e44b-4ae8-a678-30d0800ba290"
    },
    {
      "cell_type": "code",
      "execution_count": null,
      "metadata": {
        "id": "3966e96f-e760-4a3e-9ca9-7b2f4f501a07"
      },
      "outputs": [],
      "source": [
        "### --- ### NO MODIFICAR ESTA CELDA ### --- ###\n",
        "\n",
        "# En esta celda se chequea que la seed ingresada sea la correcta y, superada esa condición, se genera la serie de tiempo del grupo en la variable 's'.\n",
        "\n",
        "funciones_tp.check_my_seed(regs, my_seed)\n",
        "\n",
        "s = funciones_tp.create_random_ts(seed = my_seed)"
      ],
      "id": "3966e96f-e760-4a3e-9ca9-7b2f4f501a07"
    },
    {
      "cell_type": "markdown",
      "metadata": {
        "id": "q5oBXOvoNzih"
      },
      "source": [
        "# Desarrollo\n"
      ],
      "id": "q5oBXOvoNzih"
    },
    {
      "cell_type": "code",
      "execution_count": 49,
      "metadata": {
        "id": "oN9NpjYwOYSD"
      },
      "outputs": [],
      "source": [
        "#Que esten ordenados de menor a mayor\n",
        "reg1 = 896355\n",
        "reg2 = 896447\n",
        "reg3 = 899043\n",
        "reg4 = 899166\n",
        "reg5 = 899961 \n",
        "reg6 = 900263\n",
        "\n",
        "\n",
        "my_seed = 55 + 47 + 43 + 66 + 61 + 63"
      ],
      "id": "oN9NpjYwOYSD"
    },
    {
      "cell_type": "code",
      "execution_count": 50,
      "metadata": {
        "id": "Fr_KyhItbyHf"
      },
      "outputs": [],
      "source": [
        "# Acá se completa el número de la seed a usar\n",
        "\n",
        "my_seed = 335\n",
        "\n",
        "# Acá se completan los registros del grupo\n",
        "\n",
        "regs = ['896355', '896447', '899043', '899166', '899961', '900263']\n",
        "\n"
      ],
      "id": "Fr_KyhItbyHf"
    },
    {
      "cell_type": "code",
      "execution_count": 51,
      "metadata": {
        "id": "3lL2cankmL4Q"
      },
      "outputs": [],
      "source": [
        "# MODULO \"FUNCIONES_TP\" \n",
        "\n",
        "import numpy as np\n",
        "import matplotlib.pyplot as plt\n",
        "\n",
        "from statsmodels.tsa.arima_process import arma_generate_sample\n",
        "\n",
        "def create_random_ts(seed):\n",
        "    np.random.seed(seed)\n",
        "\n",
        "    # Seteo los coeficientes\n",
        "    ar_coefs = np.random.uniform(low= -1.5, high=2.0, size= np.random.choice([1,2])).tolist()\n",
        "    ma_coefs = np.random.uniform(low= -1.5, high=2.0, size= np.random.choice([1,2])).tolist()\n",
        "\n",
        "    # Genero los dats\n",
        "    y = arma_generate_sample(ar_coefs, ma_coefs, nsample=365)\n",
        "    \n",
        "    # si la serie tiene una forma que no sirve para el tp la rehago\n",
        "    i = 1\n",
        "    while abs(y[0] - y[360]) > 50:\n",
        "\n",
        "        np.random.seed(seed + i)\n",
        "        i += 1\n",
        "        \n",
        "        ar_coefs = np.random.uniform(low= -1.5, high=2.0, size= np.random.choice([1,2])).tolist()\n",
        "        ma_coefs = np.random.uniform(low= -1.5, high=2.0, size= np.random.choice([1,2])).tolist()\n",
        "        \n",
        "        y = arma_generate_sample(ar_coefs, ma_coefs, nsample=365)\n",
        "    \n",
        "    ## selección random de los modificadores:\n",
        "    modif_seno = np.random.choice([0,1])\n",
        "    modif_trend = np.random.choice([0,1,2])\n",
        "    \n",
        "    ## modificador 1:\n",
        "    if modif_seno == 1:\n",
        "        in_array = np.arange(0, 365, 1)\n",
        "        out_array = np.sin(in_array)\n",
        "        y = y * out_array\n",
        "\n",
        "    ## modificador 2:\n",
        "    if modif_trend == 1:\n",
        "        lin = np.linspace(0,10,45) + np.random.uniform(1.5, 2.5, 45)\n",
        "        ones = np.array([1]*(365 - 45))\n",
        "        lin = np.concatenate((ones, lin), axis=None)\n",
        "\n",
        "        y = np.concatenate((y[:365 - 45], abs(y[365 - 45:])), axis=None)\n",
        "        y = y * lin\n",
        "\n",
        "    ## modificador 3:\n",
        "    if modif_trend == 2:\n",
        "        lin = np.linspace(0,20,80) + np.random.uniform(1.5, 3.0, 80)\n",
        "        ones = np.array([1]*(365 - 80))\n",
        "        lin = np.concatenate((ones, lin), axis=None)\n",
        "\n",
        "        y = np.concatenate((y[:365 - 80], abs(y[365 - 80:])), axis=None)\n",
        "        y = y * lin\n",
        "\n",
        "    plt.figure(figsize=(9,6))\n",
        "    plt.plot(y)\n",
        "    plt.ylabel(r'$y_t$')\n",
        "    plt.xlabel(r'$t$')\n",
        "    plt.show()\n",
        "    \n",
        "    return y\n",
        "\n",
        "\n",
        "def check_my_seed(regs, my_seed):\n",
        "    \n",
        "    actual_seed = sum([int(reg[-2:]) for reg in regs])\n",
        "    \n",
        "    assert actual_seed == my_seed, 'No están usando la seed que les corresponde! Revisen la cuenta!'\n",
        "    \n",
        "    print('La seed calculada es correcta!')"
      ],
      "id": "3lL2cankmL4Q"
    },
    {
      "cell_type": "markdown",
      "source": [
        "#Serie original"
      ],
      "metadata": {
        "id": "n84zeI_vmgl_"
      },
      "id": "n84zeI_vmgl_"
    },
    {
      "cell_type": "markdown",
      "source": [
        "##  Gráfico"
      ],
      "metadata": {
        "id": "sBNgfBU2HjGe"
      },
      "id": "sBNgfBU2HjGe"
    },
    {
      "cell_type": "code",
      "execution_count": 52,
      "metadata": {
        "id": "FEaIS_OAhBPe",
        "colab": {
          "base_uri": "https://localhost:8080/",
          "height": 407
        },
        "outputId": "1c069a29-1063-4f0f-fe00-626d4c851dc5"
      },
      "outputs": [
        {
          "output_type": "stream",
          "name": "stdout",
          "text": [
            "La seed calculada es correcta!\n"
          ]
        },
        {
          "output_type": "display_data",
          "data": {
            "text/plain": [
              "<Figure size 648x432 with 1 Axes>"
            ],
            "image/png": "[encoded data removed]"
          },
          "metadata": {
            "needs_background": "light"
          }
        }
      ],
      "source": [
        "check_my_seed(regs, my_seed)\n",
        "\n",
        "s = create_random_ts(seed = my_seed)"
      ],
      "id": "FEaIS_OAhBPe"
    },
    {
      "cell_type": "markdown",
      "source": [
        "Se observa gráficamente que la serie es **no estacionaria** en la media"
      ],
      "metadata": {
        "id": "KHrsel3QxMOs"
      },
      "id": "KHrsel3QxMOs"
    },
    {
      "cell_type": "markdown",
      "metadata": {
        "id": "COJK5ZyoE1Va"
      },
      "source": [
        "## Analisis descriptivo de la serie\n"
      ],
      "id": "COJK5ZyoE1Va"
    },
    {
      "cell_type": "code",
      "execution_count": 53,
      "metadata": {
        "id": "JTVlyRuU9jqZ",
        "colab": {
          "base_uri": "https://localhost:8080/",
          "height": 81
        },
        "outputId": "ac455e29-0f1b-48bd-f1ce-c3dee9a6bd33"
      },
      "outputs": [
        {
          "output_type": "execute_result",
          "data": {
            "text/plain": [
              "         Media  Mediana  Varianza  Desvío     P10     P25    P75  Kurtosis  \\\n",
              "Serie S  3.395   0.4818  103.9582  10.196 -1.9814 -0.9077  2.336   19.2097   \n",
              "\n",
              "         Asimetría  Coef de variación  \n",
              "Serie S     3.9376              0.333  "
            ],
            "text/html": [
              "\n",
              "  <div id=\"df-3f438c4c-3a08-4748-93b9-ab0d9665dc04\">\n",
              "    <div class=\"colab-df-container\">\n",
              "      <div>\n",
              "<style scoped>\n",
              "    .dataframe tbody tr th:only-of-type {\n",
              "        vertical-align: middle;\n",
              "    }\n",
              "\n",
              "    .dataframe tbody tr th {\n",
              "        vertical-align: top;\n",
              "    }\n",
              "\n",
              "    .dataframe thead th {\n",
              "        text-align: right;\n",
              "    }\n",
              "</style>\n",
              "<table border=\"1\" class=\"dataframe\">\n",
              "  <thead>\n",
              "    <tr style=\"text-align: right;\">\n",
              "      <th></th>\n",
              "      <th>Media</th>\n",
              "      <th>Mediana</th>\n",
              "      <th>Varianza</th>\n",
              "      <th>Desvío</th>\n",
              "      <th>P10</th>\n",
              "      <th>P25</th>\n",
              "      <th>P75</th>\n",
              "      <th>Kurtosis</th>\n",
              "      <th>Asimetría</th>\n",
              "      <th>Coef de variación</th>\n",
              "    </tr>\n",
              "  </thead>\n",
              "  <tbody>\n",
              "    <tr>\n",
              "      <th>Serie S</th>\n",
              "      <td>3.395</td>\n",
              "      <td>0.4818</td>\n",
              "      <td>103.9582</td>\n",
              "      <td>10.196</td>\n",
              "      <td>-1.9814</td>\n",
              "      <td>-0.9077</td>\n",
              "      <td>2.336</td>\n",
              "      <td>19.2097</td>\n",
              "      <td>3.9376</td>\n",
              "      <td>0.333</td>\n",
              "    </tr>\n",
              "  </tbody>\n",
              "</table>\n",
              "</div>\n",
              "      <button class=\"colab-df-convert\" onclick=\"convertToInteractive('df-3f438c4c-3a08-4748-93b9-ab0d9665dc04')\"\n",
              "              title=\"Convert this dataframe to an interactive table.\"\n",
              "              style=\"display:none;\">\n",
              "        \n",
              "  <svg xmlns=\"http://www.w3.org/2000/svg\" height=\"24px\"viewBox=\"0 0 24 24\"\n",
              "       width=\"24px\">\n",
              "    <path d=\"M0 0h24v24H0V0z\" fill=\"none\"/>\n",
              "    <path d=\"M18.56 5.44l.94 2.06.94-2.06 2.06-.94-2.06-.94-.94-2.06-.94 2.06-2.06.94zm-11 1L8.5 8.5l.94-2.06 2.06-.94-2.06-.94L8.5 2.5l-.94 2.06-2.06.94zm10 10l.94 2.06.94-2.06 2.06-.94-2.06-.94-.94-2.06-.94 2.06-2.06.94z\"/><path d=\"M17.41 7.96l-1.37-1.37c-.4-.4-.92-.59-1.43-.59-.52 0-1.04.2-1.43.59L10.3 9.45l-7.72 7.72c-.78.78-.78 2.05 0 2.83L4 21.41c.39.39.9.59 1.41.59.51 0 1.02-.2 1.41-.59l7.78-7.78 2.81-2.81c.8-.78.8-2.07 0-2.86zM5.41 20L4 18.59l7.72-7.72 1.47 1.35L5.41 20z\"/>\n",
              "  </svg>\n",
              "      </button>\n",
              "      \n",
              "  <style>\n",
              "    .colab-df-container {\n",
              "      display:flex;\n",
              "      flex-wrap:wrap;\n",
              "      gap: 12px;\n",
              "    }\n",
              "\n",
              "    .colab-df-convert {\n",
              "      background-color: #E8F0FE;\n",
              "      border: none;\n",
              "      border-radius: 50%;\n",
              "      cursor: pointer;\n",
              "      display: none;\n",
              "      fill: #1967D2;\n",
              "      height: 32px;\n",
              "      padding: 0 0 0 0;\n",
              "      width: 32px;\n",
              "    }\n",
              "\n",
              "    .colab-df-convert:hover {\n",
              "      background-color: #E2EBFA;\n",
              "      box-shadow: 0px 1px 2px rgba(60, 64, 67, 0.3), 0px 1px 3px 1px rgba(60, 64, 67, 0.15);\n",
              "      fill: #174EA6;\n",
              "    }\n",
              "\n",
              "    [theme=dark] .colab-df-convert {\n",
              "      background-color: #3B4455;\n",
              "      fill: #D2E3FC;\n",
              "    }\n",
              "\n",
              "    [theme=dark] .colab-df-convert:hover {\n",
              "      background-color: #434B5C;\n",
              "      box-shadow: 0px 1px 3px 1px rgba(0, 0, 0, 0.15);\n",
              "      filter: drop-shadow(0px 1px 2px rgba(0, 0, 0, 0.3));\n",
              "      fill: #FFFFFF;\n",
              "    }\n",
              "  </style>\n",
              "\n",
              "      <script>\n",
              "        const buttonEl =\n",
              "          document.querySelector('#df-3f438c4c-3a08-4748-93b9-ab0d9665dc04 button.colab-df-convert');\n",
              "        buttonEl.style.display =\n",
              "          google.colab.kernel.accessAllowed ? 'block' : 'none';\n",
              "\n",
              "        async function convertToInteractive(key) {\n",
              "          const element = document.querySelector('#df-3f438c4c-3a08-4748-93b9-ab0d9665dc04');\n",
              "          const dataTable =\n",
              "            await google.colab.kernel.invokeFunction('convertToInteractive',\n",
              "                                                     [key], {});\n",
              "          if (!dataTable) return;\n",
              "\n",
              "          const docLinkHtml = 'Like what you see? Visit the ' +\n",
              "            '<a target=\"_blank\" href=https://colab.research.google.com/notebooks/data_table.ipynb>data table notebook</a>'\n",
              "            + ' to learn more about interactive tables.';\n",
              "          element.innerHTML = '';\n",
              "          dataTable['output_type'] = 'display_data';\n",
              "          await google.colab.output.renderOutput(dataTable, element);\n",
              "          const docLink = document.createElement('div');\n",
              "          docLink.innerHTML = docLinkHtml;\n",
              "          element.appendChild(docLink);\n",
              "        }\n",
              "      </script>\n",
              "    </div>\n",
              "  </div>\n",
              "  "
            ]
          },
          "metadata": {},
          "execution_count": 53
        }
      ],
      "source": [
        "media = np.mean(s)\n",
        "mediana = np.median(s)\n",
        "varianza = np.var(s)\n",
        "desvio = np.std(s)\n",
        "percentil_10 = np.percentile(s,10)\n",
        "percentil_25 = np.percentile(s,25)\n",
        "percentil_75 = np.percentile(s,75)\n",
        "import scipy\n",
        "from scipy.stats import kurtosis\n",
        "from scipy.stats import skew\n",
        "kurtosis = scipy.stats.kurtosis(s, axis=0)\n",
        "asimetria = scipy.stats.skew(s,axis=0)\n",
        "coefdevariabilidad = np.mean(s)/np.std(s)\n",
        "\n",
        "descriptivam = np.empty((1, 10)) \n",
        "descriptivam[0,0] = media\n",
        "descriptivam[0,1] = mediana\n",
        "descriptivam[0,2] = varianza\n",
        "descriptivam[0,3] = desvio\n",
        "descriptivam[0,4] = percentil_10\n",
        "descriptivam[0,5] = percentil_25\n",
        "descriptivam[0,6] = percentil_75\n",
        "descriptivam[0,7] = kurtosis\n",
        "descriptivam[0,8] = asimetria\n",
        "descriptivam[0,9] = coefdevariabilidad\n",
        "\n",
        "import pandas as pd\n",
        "\n",
        "descriptiva = pd.DataFrame(descriptivam,columns=[\"Media\",\"Mediana\",\"Varianza\",\"Desvío\",\"P10\",\"P25\",\"P75\",\"Kurtosis\",\"Asimetría\",\"Coef de variación\"],\n",
        "                           index = [\"Serie S\"])\n",
        "descriptiva.round(4)"
      ],
      "id": "JTVlyRuU9jqZ"
    },
    {
      "cell_type": "markdown",
      "source": [
        "La serie es leptocúrtica, con asimetría positiva. Al ser el coeficiente de variación mayor a 0.1, no se debe considerar la media representativa de la muestra\n"
      ],
      "metadata": {
        "id": "trIaPv937BBz"
      },
      "id": "trIaPv937BBz"
    },
    {
      "cell_type": "code",
      "source": [
        "#gráfico de Box-Plot\n",
        "\n",
        "plt.boxplot(s)\n",
        "plt.title(\"Boxplot\")\n",
        "plt.show()"
      ],
      "metadata": {
        "id": "yzcUusDq66Hp",
        "colab": {
          "base_uri": "https://localhost:8080/",
          "height": 281
        },
        "outputId": "62ff5f7b-965f-458e-f5c5-f0b27f6978cc"
      },
      "id": "yzcUusDq66Hp",
      "execution_count": 54,
      "outputs": [
        {
          "output_type": "display_data",
          "data": {
            "text/plain": [
              "<Figure size 432x288 with 1 Axes>"
            ],
            "image/png": "[encoded data removed]"
          },
          "metadata": {
            "needs_background": "light"
          }
        }
      ]
    },
    {
      "cell_type": "markdown",
      "source": [
        "Puede notarse la presencia de valores atípicos, además de una clara asimetría hacia la izquierda."
      ],
      "metadata": {
        "id": "oz9XZw74FFGe"
      },
      "id": "oz9XZw74FFGe"
    },
    {
      "cell_type": "markdown",
      "metadata": {
        "id": "_3k4kT-gXhZD"
      },
      "source": [
        "##FAS, FAC y FACP de la serie original"
      ],
      "id": "_3k4kT-gXhZD"
    },
    {
      "cell_type": "code",
      "execution_count": 55,
      "metadata": {
        "id": "MksVzzAKWuNQ",
        "colab": {
          "base_uri": "https://localhost:8080/",
          "height": 965
        },
        "outputId": "f5ec0222-2e19-45d7-c949-fd5eefe4278e"
      },
      "outputs": [
        {
          "output_type": "stream",
          "name": "stderr",
          "text": [
            "/usr/local/lib/python3.7/dist-packages/statsmodels/tsa/stattools.py:541: FutureWarning: fft=True will become the default in a future version of statsmodels. To suppress this warning, explicitly set fft=False.\n",
            "  warnings.warn(msg, FutureWarning)\n",
            "/usr/local/lib/python3.7/dist-packages/statsmodels/tsa/stattools.py:354: FutureWarning: fft=True will become the default in a future version of statsmodels. To suppress this warning, explicitly set fft=False.\n",
            "  warnings.warn(msg, FutureWarning)\n"
          ]
        },
        {
          "output_type": "stream",
          "name": "stdout",
          "text": [
            "[103.95824229  67.32914382  57.89591895  59.83197849  63.70126883\n",
            "  54.42359596  51.21628007  43.49677154  51.23052215  53.01081442\n",
            "  39.25066166]\n"
          ]
        },
        {
          "output_type": "display_data",
          "data": {
            "text/plain": [
              "<Figure size 432x288 with 1 Axes>"
            ],
            "image/png": "[encoded data removed]"
          },
          "metadata": {
            "needs_background": "light"
          }
        },
        {
          "output_type": "display_data",
          "data": {
            "text/plain": [
              "<Figure size 432x288 with 1 Axes>"
            ],
            "image/png": "[encoded data removed]"
          },
          "metadata": {
            "needs_background": "light"
          }
        },
        {
          "output_type": "display_data",
          "data": {
            "text/plain": [
              "<Figure size 432x288 with 1 Axes>"
            ],
            "image/png": "[encoded data removed]"
          },
          "metadata": {
            "needs_background": "light"
          }
        }
      ],
      "source": [
        "from statsmodels.tsa.stattools import acf, pacf, acovf\n",
        "from statsmodels.graphics.tsaplots import plot_acf, plot_pacf\n",
        "import matplotlib.pyplot as plt\n",
        "\n",
        "# Calculamos la FAC, FACP ,y FAS\n",
        "fac = acf(s, nlags=10)\n",
        "facp = pacf(s, nlags=10)\n",
        "fas = acovf(s, nlag=10)\n",
        "print(fas)\n",
        "\n",
        "\n",
        "#Gráfico la FAS\n",
        "a=[i for i in range(len(fas))]\n",
        "b=['ϒ{}'.format(i) for i in range(len(fas))]\n",
        "plt.bar(a,fas,tick_label=b,width=0.6)\n",
        "plt.xlabel('autocovarianzas')\n",
        "plt.title(\"Función de autocovarianzas\")\n",
        "\n",
        "plot_acf(s, lags=10)\n",
        "plot_pacf(s, lags=10)\n",
        "plt.show()\n",
        "\n",
        "\n"
      ],
      "id": "MksVzzAKWuNQ"
    },
    {
      "cell_type": "markdown",
      "source": [
        "##Analisis de la estacionariedad de la serie"
      ],
      "metadata": {
        "id": "DOdvyRqKr3hE"
      },
      "id": "DOdvyRqKr3hE"
    },
    {
      "cell_type": "markdown",
      "source": [
        "## Análisis de Media y Varianza\n",
        "\n",
        "Si la media y varianza son constantes, la serie es estacionaria. De lo contrario, puede ser no estacionaria/explosiva."
      ],
      "metadata": {
        "id": "uqCddm6_nasv"
      },
      "id": "uqCddm6_nasv"
    },
    {
      "cell_type": "code",
      "source": [
        "## Dividimos los valores de la serie en 2 para ver si los valores de la media y la varianza son los mismos\n",
        "\n",
        "sdf = pd.DataFrame(s)\n",
        "X = sdf.values\n",
        "split = round(len(X) / 2)\n",
        "X1, X2 = X[0:split], X[split:]\n",
        "mean1, mean2 = X1.mean(), X2.mean()\n",
        "var1, var2 = X1.var(), X2.var()\n",
        "print(\"Media 1: {} | Media 2: {}\".format(mean1, mean2))\n",
        "print(\"Var 1: {} | Var 2: {}\".format(var1, var2))"
      ],
      "metadata": {
        "id": "-BqwuIPsnZqw",
        "colab": {
          "base_uri": "https://localhost:8080/"
        },
        "outputId": "26b09b1d-2e58-45ca-d08a-966826a4dde8"
      },
      "id": "-BqwuIPsnZqw",
      "execution_count": 56,
      "outputs": [
        {
          "output_type": "stream",
          "name": "stdout",
          "text": [
            "Media 1: -0.12493849750100791 | Media 2: 6.895727166182065\n",
            "Var 1: 3.1764856992344024 | Var 2: 179.6119259104706\n"
          ]
        }
      ]
    },
    {
      "cell_type": "markdown",
      "source": [
        "Se observa que tanto la media como la varianza no son constantes."
      ],
      "metadata": {
        "id": "NKTq9NH-oBrp"
      },
      "id": "NKTq9NH-oBrp"
    },
    {
      "cell_type": "markdown",
      "source": [
        "## Test de Dickey-Füller\n",
        "\n",
        "Test para testear la presencia de una raíz unitaria.\n",
        "\n",
        "* **Hipótesis**:\n",
        "    * **H0**: la serie posee una raíz unitaria.\n",
        "    * **H1**: la serie NO posee una raíz unitaria (es decir, es *estacionaria*)\n",
        "    \n",
        "* **P-value**:\n",
        "    * p-value > 0.05: No rechazo H0 por lo que se puede sostener la hipótesis de presencia de raíz unitaria.\n",
        "    * p-value <= 0.05: Rechazo la H0; por lo que se puede sostener que no hay ninguna raiz unitaria."
      ],
      "metadata": {
        "id": "-wNngqZ2y0Xa"
      },
      "id": "-wNngqZ2y0Xa"
    },
    {
      "cell_type": "code",
      "execution_count": 57,
      "metadata": {
        "id": "kG2h70gMZ1Mz",
        "outputId": "a63c7646-d5c4-4c0c-eba1-039ff8e4184a",
        "colab": {
          "base_uri": "https://localhost:8080/"
        }
      },
      "outputs": [
        {
          "output_type": "stream",
          "name": "stdout",
          "text": [
            "Valor del test: 2.983917287272448\n",
            "p-value: 1.0\n",
            "El p-value (1.0) es mayor que el alpha (0.05).\n",
            "NO rechazo H0.\n"
          ]
        },
        {
          "output_type": "execute_result",
          "data": {
            "text/plain": [
              "(2.983917287272448, 1.0)"
            ]
          },
          "metadata": {},
          "execution_count": 57
        }
      ],
      "source": [
        "#Analisis de DF, en base a lo visto en la clase de analisis de series de tiempo.\n",
        "\n",
        "from statsmodels.tsa.stattools import adfuller, kpss\n",
        "\n",
        "y = s\n",
        "test_df = adfuller(y)\n",
        "\n",
        "print('Valor del test: {}'.format(test_df[0]))\n",
        "print('p-value: {}'.format(test_df[1]))\n",
        "\n",
        "\n",
        "def test_dick_fuller(serie,alpha):\n",
        "    test = adfuller(serie)\n",
        "    dkf, pv = test[0], test[1]\n",
        "    \n",
        "    if pv > alpha:\n",
        "        print(\"El p-value ({}) es mayor que el alpha ({}).\".format(pv,alpha))\n",
        "        print(\"NO rechazo H0.\")\n",
        "        \n",
        "    else:\n",
        "        print(\"El p-value ({}) es menor que el alpha ({}).\".format(pv,alpha))\n",
        "        print(\"Rechazo H0.\")\n",
        "    \n",
        "    return dkf, pv\n",
        "\n",
        "test_dick_fuller(y, alpha = 0.05)"
      ],
      "id": "kG2h70gMZ1Mz"
    },
    {
      "cell_type": "markdown",
      "source": [
        "## Analisis de residuos"
      ],
      "metadata": {
        "id": "y8-M4Xoiy64x"
      },
      "id": "y8-M4Xoiy64x"
    },
    {
      "cell_type": "code",
      "source": [
        "# Plot residual errors\n",
        "residuals = pd.DataFrame(s)\n",
        "fig, ax = plt.subplots(1,2)\n",
        "residuals.plot(title=\"Residuos\", ax=ax[0])\n",
        "residuals.plot(kind='kde', title='Densidad', ax=ax[1])\n",
        "plt.show()"
      ],
      "metadata": {
        "colab": {
          "base_uri": "https://localhost:8080/",
          "height": 281
        },
        "id": "P_EACIjixoA-",
        "outputId": "cbefbe32-a05b-43b0-c0f3-5f2ab982f95d"
      },
      "id": "P_EACIjixoA-",
      "execution_count": 58,
      "outputs": [
        {
          "output_type": "display_data",
          "data": {
            "text/plain": [
              "<Figure size 432x288 with 2 Axes>"
            ],
            "image/png": "[encoded data removed]"
          },
          "metadata": {
            "needs_background": "light"
          }
        }
      ]
    },
    {
      "cell_type": "markdown",
      "source": [
        "#Diferenciación de la serie"
      ],
      "metadata": {
        "id": "tpCal3bLsB7C"
      },
      "id": "tpCal3bLsB7C"
    },
    {
      "cell_type": "code",
      "source": [
        "# create a differenced series\n",
        "def difference(s, interval=1):\n",
        "    diff = list()\n",
        "    for i in range(interval, len(s)):\n",
        "        value = s[i] - s[i - interval]\n",
        "        diff.append(value)\n",
        "    return diff\n"
      ],
      "metadata": {
        "id": "-OM-Koh8kxSx"
      },
      "id": "-OM-Koh8kxSx",
      "execution_count": 59,
      "outputs": []
    },
    {
      "cell_type": "code",
      "source": [
        "#Primera diferencia de la serie\n",
        "diff = difference(s)\n",
        "plt.title(\"Primera Diferencia\")\n",
        "plt.plot(diff)\n",
        "plt.show()\n"
      ],
      "metadata": {
        "id": "ctUGAj5f0rVq",
        "colab": {
          "base_uri": "https://localhost:8080/",
          "height": 281
        },
        "outputId": "5d13f36f-c102-4061-d3dd-30011fcfd16f"
      },
      "id": "ctUGAj5f0rVq",
      "execution_count": 60,
      "outputs": [
        {
          "output_type": "display_data",
          "data": {
            "text/plain": [
              "<Figure size 432x288 with 1 Axes>"
            ],
            "image/png": "[encoded data removed]"
          },
          "metadata": {
            "needs_background": "light"
          }
        }
      ]
    },
    {
      "cell_type": "markdown",
      "source": [
        "Se observa con el grafico de la serie que al realizar la diferencia primera al proceso, este se convierte en **estacionario**, ya que ahora posee media constante (se comporta como un *white noise*). Se pierde una observacion.\n",
        "\n",
        "Comprobamos la condición de estacionariedad a partir del análisis de los graficos de la FAC y la FACP"
      ],
      "metadata": {
        "id": "mT9uXV0Y2i4Z"
      },
      "id": "mT9uXV0Y2i4Z"
    },
    {
      "cell_type": "code",
      "source": [
        "desvio = np.std(diff)\n",
        "print(desvio)"
      ],
      "metadata": {
        "colab": {
          "base_uri": "https://localhost:8080/"
        },
        "id": "wCnvRDprY_Vc",
        "outputId": "0b2d0d7b-2570-419f-e5f3-b7973f1925ed"
      },
      "id": "wCnvRDprY_Vc",
      "execution_count": 61,
      "outputs": [
        {
          "output_type": "stream",
          "name": "stdout",
          "text": [
            "7.475249554964587\n"
          ]
        }
      ]
    },
    {
      "cell_type": "markdown",
      "source": [
        "El desvio sigue siendo muy alto, y además se puede observar graficamente que la serie puede no ser estacionaria en la varianza: hay un problema de heteroselasticidad. Se podria aplicar una tranformacion a la serie para convertirla en estacionaria en la varianza. **Limitacion **"
      ],
      "metadata": {
        "id": "fiNZXVcOZFDo"
      },
      "id": "fiNZXVcOZFDo"
    },
    {
      "cell_type": "markdown",
      "source": [
        "##FAS, FAC Y FACP de la serie diferenciada"
      ],
      "metadata": {
        "id": "LxEXVMsBljnU"
      },
      "id": "LxEXVMsBljnU"
    },
    {
      "cell_type": "code",
      "source": [
        "from statsmodels.tsa.stattools import acf, pacf, acovf\n",
        "from statsmodels.graphics.tsaplots import plot_acf, plot_pacf\n",
        "import matplotlib.pyplot as plt\n",
        "\n",
        "# Calculamos la FAC, FACP ,y FAS\n",
        "fac = acf(diff, nlags=20)\n",
        "facp = pacf(diff, nlags=20)\n",
        "fas = acovf(diff, nlag=20)\n",
        "print(fas)\n",
        "\n",
        "\n",
        "#Gráfico la FAS\n",
        "a=[i for i in range(len(fas))]\n",
        "b=['ϒ{}'.format(i) for i in range(len(fas))]\n",
        "plt.bar(a,fas,tick_label=b,width=0.6)\n",
        "plt.xlabel('autocovarianzas')\n",
        "plt.title(\"Función de autocovarianzas primera diferencia\")\n",
        "\n",
        "plot_acf(diff, lags=20)\n",
        "plot_pacf(diff, lags=20)\n",
        "plt.show()"
      ],
      "metadata": {
        "id": "L_EJBW22y3-K",
        "colab": {
          "base_uri": "https://localhost:8080/",
          "height": 999
        },
        "outputId": "eb8027e1-3adf-4527-8084-6164ff345fba"
      },
      "id": "L_EJBW22y3-K",
      "execution_count": 62,
      "outputs": [
        {
          "output_type": "stream",
          "name": "stderr",
          "text": [
            "/usr/local/lib/python3.7/dist-packages/statsmodels/tsa/stattools.py:541: FutureWarning: fft=True will become the default in a future version of statsmodels. To suppress this warning, explicitly set fft=False.\n",
            "  warnings.warn(msg, FutureWarning)\n",
            "/usr/local/lib/python3.7/dist-packages/statsmodels/tsa/stattools.py:354: FutureWarning: fft=True will become the default in a future version of statsmodels. To suppress this warning, explicitly set fft=False.\n",
            "  warnings.warn(msg, FutureWarning)\n"
          ]
        },
        {
          "output_type": "stream",
          "name": "stdout",
          "text": [
            "[ 55.87935591 -16.97797678  -8.49874392  -4.09487016  13.64103404\n",
            "  -8.00227196   8.22664357 -13.27980136   7.82207273   5.89362587\n",
            "  -7.739891    -8.85278828   9.14019228  -4.03200045   2.60077579\n",
            "   2.09686614  -3.59317359   0.55517668  -1.8346104    2.90378643\n",
            "   0.19543902]\n"
          ]
        },
        {
          "output_type": "display_data",
          "data": {
            "text/plain": [
              "<Figure size 432x288 with 1 Axes>"
            ],
            "image/png": "[encoded data removed]"
          },
          "metadata": {
            "needs_background": "light"
          }
        },
        {
          "output_type": "display_data",
          "data": {
            "text/plain": [
              "<Figure size 432x288 with 1 Axes>"
            ],
            "image/png": "[encoded data removed]"
          },
          "metadata": {
            "needs_background": "light"
          }
        },
        {
          "output_type": "display_data",
          "data": {
            "text/plain": [
              "<Figure size 432x288 with 1 Axes>"
            ],
            "image/png": "[encoded data removed]"
          },
          "metadata": {
            "needs_background": "light"
          }
        }
      ]
    },
    {
      "cell_type": "markdown",
      "source": [
        "Se observa que la función de autocorrelaciones (FAC) del proceso diferenciado, posee un comportamiento con forma sinusoidal decreciente, lo que indica estacionariedad de la serie. \n",
        "\n",
        "\n",
        "De esta forma, finaliza el análisis grafico sobre la condición de estacionariedad del proceso en su primera diferencia."
      ],
      "metadata": {
        "id": "eaAIpfcwpsGT"
      },
      "id": "eaAIpfcwpsGT"
    },
    {
      "cell_type": "markdown",
      "source": [
        "##Test de Dickey Fuller de la primera diferencia"
      ],
      "metadata": {
        "id": "1tqkwkArlpq-"
      },
      "id": "1tqkwkArlpq-"
    },
    {
      "cell_type": "code",
      "source": [
        "#Test de DF para la primera diferencia\n",
        "\n",
        "x = diff\n",
        "test_df = adfuller(x)\n",
        "\n",
        "print('Valor del test: {}'.format(test_df[0]))\n",
        "print('p-value: {}'.format(test_df[1]))\n",
        "\n",
        "\n",
        "def test_dick_fuller(serie,alpha):\n",
        "    test = adfuller(serie)\n",
        "    dkf, pv = test[0], test[1]\n",
        "    \n",
        "    if pv > alpha:\n",
        "        print(\"El p-value ({}) es mayor que el alpha ({}).\".format(pv,alpha))\n",
        "        print(\"NO rechazo H0.\")\n",
        "        \n",
        "    else:\n",
        "        print(\"El p-value ({}) es menor que el alpha ({}).\".format(pv,alpha))\n",
        "        print(\"Rechazo H0.\")\n",
        "    \n",
        "    return dkf, pv\n",
        "\n",
        "test_dick_fuller(x, alpha = 0.05)"
      ],
      "metadata": {
        "colab": {
          "base_uri": "https://localhost:8080/"
        },
        "id": "WLMmP-5O6OkZ",
        "outputId": "dee4675c-7b9f-400c-f55b-9d7458b00b7e"
      },
      "id": "WLMmP-5O6OkZ",
      "execution_count": 63,
      "outputs": [
        {
          "output_type": "stream",
          "name": "stdout",
          "text": [
            "Valor del test: -6.1715175970750895\n",
            "p-value: 6.787241622863207e-08\n",
            "El p-value (6.787241622863207e-08) es menor que el alpha (0.05).\n",
            "Rechazo H0.\n"
          ]
        },
        {
          "output_type": "execute_result",
          "data": {
            "text/plain": [
              "(-6.1715175970750895, 6.787241622863207e-08)"
            ]
          },
          "metadata": {},
          "execution_count": 63
        }
      ]
    },
    {
      "cell_type": "markdown",
      "source": [
        "#Estimación del mejor modelo \n"
      ],
      "metadata": {
        "id": "gh_BSpl3vw77"
      },
      "id": "gh_BSpl3vw77"
    },
    {
      "cell_type": "markdown",
      "source": [
        "##Estimación ARIMA (1,1,1)"
      ],
      "metadata": {
        "id": "mJjgAxiEwOjI"
      },
      "id": "mJjgAxiEwOjI"
    },
    {
      "cell_type": "code",
      "source": [
        "from statsmodels.tsa.arima_model import ARIMA\n",
        "\n",
        "model = ARIMA(s, order=(1,1,1))\n",
        "model_fit1 = model.fit(disp=0)\n",
        "print(model_fit1.summary())"
      ],
      "metadata": {
        "id": "m6kfZfRTLpuy",
        "colab": {
          "base_uri": "https://localhost:8080/"
        },
        "outputId": "ffdfbcee-e729-498e-e0bd-1fd6d474b43e"
      },
      "id": "m6kfZfRTLpuy",
      "execution_count": 64,
      "outputs": [
        {
          "output_type": "stream",
          "name": "stdout",
          "text": [
            "                             ARIMA Model Results                              \n",
            "==============================================================================\n",
            "Dep. Variable:                    D.y   No. Observations:                  364\n",
            "Model:                 ARIMA(1, 1, 1)   Log Likelihood               -1194.911\n",
            "Method:                       css-mle   S.D. of innovations              6.440\n",
            "Date:                Wed, 06 Jul 2022   AIC                           2397.821\n",
            "Time:                        02:13:27   BIC                           2413.410\n",
            "Sample:                             1   HQIC                          2404.017\n",
            "                                                                              \n",
            "==============================================================================\n",
            "                 coef    std err          z      P>|z|      [0.025      0.975]\n",
            "------------------------------------------------------------------------------\n",
            "const          0.1054      0.065      1.614      0.107      -0.023       0.233\n",
            "ar.L1.D.y      0.2088      0.074      2.804      0.005       0.063       0.355\n",
            "ma.L1.D.y     -0.8501      0.043    -19.758      0.000      -0.934      -0.766\n",
            "                                    Roots                                    \n",
            "=============================================================================\n",
            "                  Real          Imaginary           Modulus         Frequency\n",
            "-----------------------------------------------------------------------------\n",
            "AR.1            4.7887           +0.0000j            4.7887            0.0000\n",
            "MA.1            1.1763           +0.0000j            1.1763            0.0000\n",
            "-----------------------------------------------------------------------------\n"
          ]
        }
      ]
    },
    {
      "cell_type": "markdown",
      "source": [
        "###Significatividad de los coeficientes ARIMA(1,1,1)\n",
        "\n",
        "\n"
      ],
      "metadata": {
        "id": "dQMHB7rOl4hS"
      },
      "id": "dQMHB7rOl4hS"
    },
    {
      "cell_type": "code",
      "source": [
        "coef_1 = np.dataframe = [ 0.1054 , 0.2088 , -0.8501 ]\n",
        "desv_coef_1 = np.dataframe = [ 0.065 , 0.074 , 0.043 ]\n",
        "\n",
        "t_empirico_1 = np.dataframe = [0.1054/0.065 , 0.2088/0.074 , 0.8501/0.043]\n",
        " \n",
        "\n",
        "for i in range(0, len(t_empirico_1)):\n",
        "        test = t_empirico_1[i]\n",
        "        if (abs(test) >= 2):\n",
        "           print(\"El parametro {} es significativo\".format(coef_1[i]))\n",
        "        else:\n",
        "          print(\"El parametro {} NO es significativo\".format(coef_1[i])) \n",
        "\n",
        "\n"
      ],
      "metadata": {
        "colab": {
          "base_uri": "https://localhost:8080/"
        },
        "id": "X8kgnIwfeFv5",
        "outputId": "eb7beece-b9d6-4c02-e084-b77b028ca9c0"
      },
      "id": "X8kgnIwfeFv5",
      "execution_count": 65,
      "outputs": [
        {
          "output_type": "stream",
          "name": "stdout",
          "text": [
            "El parametro 0.1054 NO es significativo\n",
            "El parametro 0.2088 es significativo\n",
            "El parametro -0.8501 es significativo\n"
          ]
        }
      ]
    },
    {
      "cell_type": "markdown",
      "source": [
        "##Estimación ARIMA (1,2,1)"
      ],
      "metadata": {
        "id": "KRaWJSDawVdz"
      },
      "id": "KRaWJSDawVdz"
    },
    {
      "cell_type": "code",
      "source": [
        "model = ARIMA(s, order=(1,2,1))\n",
        "model_fit2 = model.fit(disp=0)\n",
        "print(model_fit2.summary())"
      ],
      "metadata": {
        "colab": {
          "base_uri": "https://localhost:8080/"
        },
        "id": "iXpJNnQ2RaZX",
        "outputId": "fc282860-3825-4541-ad3a-b710fe8dd3f3"
      },
      "id": "iXpJNnQ2RaZX",
      "execution_count": 66,
      "outputs": [
        {
          "output_type": "stream",
          "name": "stdout",
          "text": [
            "                             ARIMA Model Results                              \n",
            "==============================================================================\n",
            "Dep. Variable:                   D2.y   No. Observations:                  363\n",
            "Model:                 ARIMA(1, 2, 1)   Log Likelihood               -1228.591\n",
            "Method:                       css-mle   S.D. of innovations              7.075\n",
            "Date:                Wed, 06 Jul 2022   AIC                           2465.181\n",
            "Time:                        02:13:29   BIC                           2480.759\n",
            "Sample:                             2   HQIC                          2471.373\n",
            "                                                                              \n",
            "==============================================================================\n",
            "                 coef    std err          z      P>|z|      [0.025      0.975]\n",
            "------------------------------------------------------------------------------\n",
            "const          0.0030      0.003      1.152      0.250      -0.002       0.008\n",
            "ar.L1.D2.y    -0.3389      0.052     -6.458      0.000      -0.442      -0.236\n",
            "ma.L1.D2.y    -1.0000      0.008   -131.269      0.000      -1.015      -0.985\n",
            "                                    Roots                                    \n",
            "=============================================================================\n",
            "                  Real          Imaginary           Modulus         Frequency\n",
            "-----------------------------------------------------------------------------\n",
            "AR.1           -2.9510           +0.0000j            2.9510            0.5000\n",
            "MA.1            1.0000           +0.0000j            1.0000            0.0000\n",
            "-----------------------------------------------------------------------------\n"
          ]
        }
      ]
    },
    {
      "cell_type": "markdown",
      "source": [
        "###Significatividad de sus coeficientes ARIMA (1,2,1)"
      ],
      "metadata": {
        "id": "KjLyaxntl_Zn"
      },
      "id": "KjLyaxntl_Zn"
    },
    {
      "cell_type": "code",
      "source": [
        "coef_2 = np.dataframe = [ 0.0030 , -0.3389, -1 ]\n",
        "desv_coef_2 = np.dataframe = [ 0.003 , 0.052 , 0.008 ]\n",
        "\n",
        "t_empirico_2 = np.dataframe = [ 0.0030/0.003 , 0.3389/0.052 , 1/0.008 ]\n",
        " \n",
        "\n",
        "\n",
        "for i in range(0, len(t_empirico_2)):\n",
        "        test = t_empirico_2[i]\n",
        "        if (abs(test) >= 2):\n",
        "          print(\"El parametro {} es significativo\".format(coef_2[i]))\n",
        "        else:\n",
        "          print(\"El parametro {} NO es significativo\".format(coef_2[i])) \n",
        "\n"
      ],
      "metadata": {
        "colab": {
          "base_uri": "https://localhost:8080/"
        },
        "id": "DqQfO0vMh0O1",
        "outputId": "b1944422-5d8c-4e88-8f39-fd7cc968e9cd"
      },
      "id": "DqQfO0vMh0O1",
      "execution_count": 67,
      "outputs": [
        {
          "output_type": "stream",
          "name": "stdout",
          "text": [
            "El parametro 0.003 NO es significativo\n",
            "El parametro -0.3389 es significativo\n",
            "El parametro -1 es significativo\n"
          ]
        }
      ]
    },
    {
      "cell_type": "markdown",
      "source": [
        "##Estimación ARIMA (4,1,3)"
      ],
      "metadata": {
        "id": "1FyEh-CHwrnQ"
      },
      "id": "1FyEh-CHwrnQ"
    },
    {
      "cell_type": "code",
      "source": [
        "model = ARIMA(s, order=(4,1,3))\n",
        "model_fit2 = model.fit(disp=0)\n",
        "print(model_fit2.summary())"
      ],
      "metadata": {
        "colab": {
          "base_uri": "https://localhost:8080/"
        },
        "id": "-119OQsURgz8",
        "outputId": "5eaefa4a-8f4d-4abf-a431-d2f78637135d"
      },
      "id": "-119OQsURgz8",
      "execution_count": 68,
      "outputs": [
        {
          "output_type": "stream",
          "name": "stdout",
          "text": [
            "                             ARIMA Model Results                              \n",
            "==============================================================================\n",
            "Dep. Variable:                    D.y   No. Observations:                  364\n",
            "Model:                 ARIMA(4, 1, 3)   Log Likelihood               -1168.800\n",
            "Method:                       css-mle   S.D. of innovations              5.980\n",
            "Date:                Wed, 06 Jul 2022   AIC                           2355.600\n",
            "Time:                        02:13:31   BIC                           2390.675\n",
            "Sample:                             1   HQIC                          2369.541\n",
            "                                                                              \n",
            "==============================================================================\n",
            "                 coef    std err          z      P>|z|      [0.025      0.975]\n",
            "------------------------------------------------------------------------------\n",
            "const          0.1082      0.071      1.516      0.130      -0.032       0.248\n",
            "ar.L1.D.y     -1.2246      0.122    -10.045      0.000      -1.464      -0.986\n",
            "ar.L2.D.y     -0.6088      0.213     -2.864      0.004      -1.025      -0.192\n",
            "ar.L3.D.y      0.0214      0.200      0.107      0.915      -0.370       0.413\n",
            "ar.L4.D.y      0.0668      0.102      0.656      0.512      -0.133       0.266\n",
            "ma.L1.D.y      0.7029      0.106      6.613      0.000       0.495       0.911\n",
            "ma.L2.D.y     -0.3330      0.138     -2.421      0.016      -0.603      -0.063\n",
            "ma.L3.D.y     -0.7595      0.083     -9.143      0.000      -0.922      -0.597\n",
            "                                    Roots                                    \n",
            "=============================================================================\n",
            "                  Real          Imaginary           Modulus         Frequency\n",
            "-----------------------------------------------------------------------------\n",
            "AR.1           -0.9681           -0.9806j            1.3779           -0.3740\n",
            "AR.2           -0.9681           +0.9806j            1.3779            0.3740\n",
            "AR.3           -2.1139           -0.0000j            2.1139           -0.5000\n",
            "AR.4            3.7290           -0.0000j            3.7290           -0.0000\n",
            "MA.1            1.2151           -0.0000j            1.2151           -0.0000\n",
            "MA.2           -0.8268           -0.6325j            1.0410           -0.3961\n",
            "MA.3           -0.8268           +0.6325j            1.0410            0.3961\n",
            "-----------------------------------------------------------------------------\n"
          ]
        }
      ]
    },
    {
      "cell_type": "markdown",
      "source": [
        "###Significatividad de sus coeficientes. ARIMA (4,1,3)"
      ],
      "metadata": {
        "id": "KC_lx2bpmBu9"
      },
      "id": "KC_lx2bpmBu9"
    },
    {
      "cell_type": "code",
      "source": [
        "coef_3 = np.dataframe = [ 0.1082, -1.2246, -0.6088, 0.0214, 0.0668, 0.7029, -0.3330, -0.7595 ]\n",
        "\n",
        "t_empirico_3 = np.dataframe = [ 0.1082/0.071 , 1.2246/0.122 , 0.6088/0.213 , 0.0214/0.2 , 0.0668/0.102 , 0.7029/0.106 , 0.333/0.138 , 0.7595/0.083]\n",
        " \n",
        "\n",
        "for i in range(0, len(t_empirico_3)):\n",
        "        test = t_empirico_3[i]\n",
        "        if (abs(test) >= 2):\n",
        "          print(\"El parametro {} es significativo\".format(coef_3[i]))\n",
        "        else:\n",
        "          print(\"El parametro {} NO es significativo\".format(coef_3[i]))  \n",
        "        \n"
      ],
      "metadata": {
        "colab": {
          "base_uri": "https://localhost:8080/"
        },
        "id": "PwvWgnA_ky10",
        "outputId": "01af5cef-7043-4795-9aaf-125f3418eacc"
      },
      "id": "PwvWgnA_ky10",
      "execution_count": 69,
      "outputs": [
        {
          "output_type": "stream",
          "name": "stdout",
          "text": [
            "El parametro 0.1082 NO es significativo\n",
            "El parametro -1.2246 es significativo\n",
            "El parametro -0.6088 es significativo\n",
            "El parametro 0.0214 NO es significativo\n",
            "El parametro 0.0668 NO es significativo\n",
            "El parametro 0.7029 es significativo\n",
            "El parametro -0.333 es significativo\n",
            "El parametro -0.7595 es significativo\n"
          ]
        }
      ]
    },
    {
      "cell_type": "markdown",
      "source": [
        "##Estimación ARIMA (0,1,0)"
      ],
      "metadata": {
        "id": "B9QnnPU7wxYf"
      },
      "id": "B9QnnPU7wxYf"
    },
    {
      "cell_type": "code",
      "source": [
        "#Aca probamos otros ARIMA:\n",
        "model = ARIMA(s, order=(0,1,0))\n",
        "model_fit2 = model.fit(disp=0)\n",
        "print(model_fit2.summary())"
      ],
      "metadata": {
        "colab": {
          "base_uri": "https://localhost:8080/"
        },
        "id": "1LrUru5MoFTM",
        "outputId": "c9432ee2-3c12-4b86-c262-dd3866ea1392"
      },
      "id": "1LrUru5MoFTM",
      "execution_count": 70,
      "outputs": [
        {
          "output_type": "stream",
          "name": "stdout",
          "text": [
            "                             ARIMA Model Results                              \n",
            "==============================================================================\n",
            "Dep. Variable:                    D.y   No. Observations:                  364\n",
            "Model:                 ARIMA(0, 1, 0)   Log Likelihood               -1248.715\n",
            "Method:                           css   S.D. of innovations              7.475\n",
            "Date:                Wed, 06 Jul 2022   AIC                           2501.430\n",
            "Time:                        02:13:31   BIC                           2509.225\n",
            "Sample:                             1   HQIC                          2504.528\n",
            "                                                                              \n",
            "==============================================================================\n",
            "                 coef    std err          z      P>|z|      [0.025      0.975]\n",
            "------------------------------------------------------------------------------\n",
            "const          0.2216      0.392      0.566      0.572      -0.546       0.990\n",
            "==============================================================================\n"
          ]
        }
      ]
    },
    {
      "cell_type": "markdown",
      "source": [
        "###Significatividad de sus coeficientes. ARIMA (0,1,0)"
      ],
      "metadata": {
        "id": "-d_m3yJSxYlB"
      },
      "id": "-d_m3yJSxYlB"
    },
    {
      "cell_type": "code",
      "source": [
        "coef_4 = np.dataframe = [ 0.2216]\n",
        "t_empirico_4 = np.dataframe = [0.2216/0.392]\n",
        " \n",
        "\n",
        "for i in range(0, len(t_empirico_4)):\n",
        "        test = t_empirico_4[i]\n",
        "        if (abs(test) > 2):\n",
        "          print(\"El parametro {} es significativo\".format(coef_4[i]))\n",
        "        else:\n",
        "          print(\"El parametro {} NO es significativo\".format(coef_4[i]))  \n",
        "        "
      ],
      "metadata": {
        "colab": {
          "base_uri": "https://localhost:8080/"
        },
        "id": "N6NtVB1AxhVP",
        "outputId": "18286588-89da-4619-82d9-bf61385b0162"
      },
      "id": "N6NtVB1AxhVP",
      "execution_count": 71,
      "outputs": [
        {
          "output_type": "stream",
          "name": "stdout",
          "text": [
            "El parametro 0.2216 NO es significativo\n"
          ]
        }
      ]
    },
    {
      "cell_type": "markdown",
      "source": [
        "##Estimación ARIMA (2,1,1)"
      ],
      "metadata": {
        "id": "HSomOlTMxAfO"
      },
      "id": "HSomOlTMxAfO"
    },
    {
      "cell_type": "code",
      "source": [
        "model = ARIMA(s, order=(2,1,1))\n",
        "model_fit2 = model.fit(disp=0)\n",
        "print(model_fit2.summary())"
      ],
      "metadata": {
        "colab": {
          "base_uri": "https://localhost:8080/"
        },
        "id": "g6YWB2V6oZME",
        "outputId": "4f8c6a75-04ed-4148-8127-7ae2c61c9c19"
      },
      "id": "g6YWB2V6oZME",
      "execution_count": 72,
      "outputs": [
        {
          "output_type": "stream",
          "name": "stdout",
          "text": [
            "                             ARIMA Model Results                              \n",
            "==============================================================================\n",
            "Dep. Variable:                    D.y   No. Observations:                  364\n",
            "Model:                 ARIMA(2, 1, 1)   Log Likelihood               -1192.894\n",
            "Method:                       css-mle   S.D. of innovations              6.406\n",
            "Date:                Wed, 06 Jul 2022   AIC                           2395.788\n",
            "Time:                        02:13:31   BIC                           2415.274\n",
            "Sample:                             1   HQIC                          2403.533\n",
            "                                                                              \n",
            "==============================================================================\n",
            "                 coef    std err          z      P>|z|      [0.025      0.975]\n",
            "------------------------------------------------------------------------------\n",
            "const          0.1236      0.103      1.202      0.230      -0.078       0.325\n",
            "ar.L1.D.y      0.0252      0.119      0.211      0.833      -0.209       0.259\n",
            "ar.L2.D.y     -0.2096      0.085     -2.464      0.014      -0.376      -0.043\n",
            "ma.L1.D.y     -0.6411      0.120     -5.349      0.000      -0.876      -0.406\n",
            "                                    Roots                                    \n",
            "=============================================================================\n",
            "                  Real          Imaginary           Modulus         Frequency\n",
            "-----------------------------------------------------------------------------\n",
            "AR.1            0.0602           -2.1836j            2.1845           -0.2456\n",
            "AR.2            0.0602           +2.1836j            2.1845            0.2456\n",
            "MA.1            1.5597           +0.0000j            1.5597            0.0000\n",
            "-----------------------------------------------------------------------------\n"
          ]
        }
      ]
    },
    {
      "cell_type": "markdown",
      "source": [
        "###Significatividad de sus coeficientes. ARIMA (2,1,1)"
      ],
      "metadata": {
        "id": "hblPeTVjx1mQ"
      },
      "id": "hblPeTVjx1mQ"
    },
    {
      "cell_type": "code",
      "source": [
        "coef_5 = np.dataframe = [ 0.1236 , 0.0252 , -0.2096 , -0.6411]\n",
        "\n",
        "t_empirico_5 = np.dataframe = [ 0.1236/0.103 , 0.0252/0.119 , 0.2096/0.085 , 0.6411/0.120]\n",
        " \n",
        "\n",
        "for i in range(0, len(t_empirico_5)):\n",
        "        test = t_empirico_5[i]\n",
        "        if (abs(test) > 2):\n",
        "          print(\"El parametro {} es significativo\".format(coef_5[i]))\n",
        "        else:\n",
        "          print(\"El parametro {} NO es significativo\".format(coef_5[i]))  "
      ],
      "metadata": {
        "colab": {
          "base_uri": "https://localhost:8080/"
        },
        "id": "k7MXvUnCx1CQ",
        "outputId": "1b5836b4-48a2-46f7-ce7b-cbc76f3ac818"
      },
      "id": "k7MXvUnCx1CQ",
      "execution_count": 73,
      "outputs": [
        {
          "output_type": "stream",
          "name": "stdout",
          "text": [
            "El parametro 0.1236 NO es significativo\n",
            "El parametro 0.0252 NO es significativo\n",
            "El parametro -0.2096 es significativo\n",
            "El parametro -0.6411 es significativo\n"
          ]
        }
      ]
    },
    {
      "cell_type": "markdown",
      "source": [
        "##Estimación ARIMA(3,1,2)"
      ],
      "metadata": {
        "id": "SPhe0TsUxHxZ"
      },
      "id": "SPhe0TsUxHxZ"
    },
    {
      "cell_type": "code",
      "source": [
        "model = ARIMA(s, order=(3,1,2))\n",
        "model_fit2 = model.fit(disp=0)\n",
        "print(model_fit2.summary())"
      ],
      "metadata": {
        "id": "jfAQQLEKomJz",
        "colab": {
          "base_uri": "https://localhost:8080/"
        },
        "outputId": "f47eb076-99ca-40e4-e268-0d8fb21acd3e"
      },
      "id": "jfAQQLEKomJz",
      "execution_count": 74,
      "outputs": [
        {
          "output_type": "stream",
          "name": "stdout",
          "text": [
            "                             ARIMA Model Results                              \n",
            "==============================================================================\n",
            "Dep. Variable:                    D.y   No. Observations:                  364\n",
            "Model:                 ARIMA(3, 1, 2)   Log Likelihood               -1182.490\n",
            "Method:                       css-mle   S.D. of innovations              6.224\n",
            "Date:                Wed, 06 Jul 2022   AIC                           2378.980\n",
            "Time:                        02:13:32   BIC                           2406.260\n",
            "Sample:                             1   HQIC                          2389.823\n",
            "                                                                              \n",
            "==============================================================================\n",
            "                 coef    std err          z      P>|z|      [0.025      0.975]\n",
            "------------------------------------------------------------------------------\n",
            "const          0.1378      0.126      1.096      0.274      -0.109       0.384\n",
            "ar.L1.D.y     -0.8895      0.103     -8.643      0.000      -1.091      -0.688\n",
            "ar.L2.D.y     -0.4821      0.123     -3.917      0.000      -0.723      -0.241\n",
            "ar.L3.D.y     -0.4232      0.064     -6.612      0.000      -0.549      -0.298\n",
            "ma.L1.D.y      0.3311      0.114      2.910      0.004       0.108       0.554\n",
            "ma.L2.D.y     -0.2596      0.097     -2.680      0.008      -0.449      -0.070\n",
            "                                    Roots                                    \n",
            "=============================================================================\n",
            "                  Real          Imaginary           Modulus         Frequency\n",
            "-----------------------------------------------------------------------------\n",
            "AR.1           -1.1299           -0.0000j            1.1299           -0.5000\n",
            "AR.2           -0.0047           -1.4462j            1.4462           -0.2505\n",
            "AR.3           -0.0047           +1.4462j            1.4462            0.2505\n",
            "MA.1           -1.4260           +0.0000j            1.4260            0.5000\n",
            "MA.2            2.7016           +0.0000j            2.7016            0.0000\n",
            "-----------------------------------------------------------------------------\n"
          ]
        }
      ]
    },
    {
      "cell_type": "markdown",
      "source": [
        "###Significatividad coeficientes. ARIMA (3,1,2)"
      ],
      "metadata": {
        "id": "xKBsgwnPyRdj"
      },
      "id": "xKBsgwnPyRdj"
    },
    {
      "cell_type": "code",
      "source": [
        "coef_6 = np.dataframe = [ 0.1378 , -0.8895 , -0.4821 , -0.4232 , 0.3311 , -0.2596]\n",
        "\n",
        "t_empirico_6 = np.dataframe = [ 0.1378/0.126 , 0.8895/0.103 , 0.4821/0.123 , 0.4232/0.064 , 0.3311/0.114 , 0.25960/0.097]\n",
        "\n",
        "for i in range(0, len(t_empirico_6)):\n",
        "        test = t_empirico_6[i]\n",
        "        if (abs(test) > 2):\n",
        "          print(\"El parametro {} es significativo\".format(coef_6[i]))\n",
        "        else:\n",
        "          print(\"El parametro {} NO es significativo\".format(coef_6[i]))  "
      ],
      "metadata": {
        "colab": {
          "base_uri": "https://localhost:8080/"
        },
        "id": "KlKfqgmmyW3c",
        "outputId": "628e8ae9-013e-4b5c-fcb9-45f957d50bfe"
      },
      "id": "KlKfqgmmyW3c",
      "execution_count": 75,
      "outputs": [
        {
          "output_type": "stream",
          "name": "stdout",
          "text": [
            "El parametro 0.1378 NO es significativo\n",
            "El parametro -0.8895 es significativo\n",
            "El parametro -0.4821 es significativo\n",
            "El parametro -0.4232 es significativo\n",
            "El parametro 0.3311 es significativo\n",
            "El parametro -0.2596 es significativo\n"
          ]
        }
      ]
    },
    {
      "cell_type": "markdown",
      "source": [
        "Podemos observar que con esta serie de tiempo, los modelos ARIMA con d=1 tienen menor AIC, BIC y HQ. Por lo tanto el proceso es Integrado de orden 1, es decir, posee una única raíz unitaria. Ademas, el test de DF brindo la evidencia necesaria para indicar que existe al menos una raiz unitaria. Podriamos realizar la primera diferencia para convertirlo en estacionario.\n",
        "\n"
      ],
      "metadata": {
        "id": "MJshC0oRmFJ3"
      },
      "id": "MJshC0oRmFJ3"
    },
    {
      "cell_type": "markdown",
      "source": [
        "# Predicción"
      ],
      "metadata": {
        "id": "q4aIxTnX0Yar"
      },
      "id": "q4aIxTnX0Yar"
    },
    {
      "cell_type": "markdown",
      "source": [
        "## Gráfico"
      ],
      "metadata": {
        "id": "5LxJ6rdXgBN6"
      },
      "id": "5LxJ6rdXgBN6"
    },
    {
      "cell_type": "code",
      "source": [
        "model_fit1.plot_predict(dynamic=False)\n",
        "plt.show()"
      ],
      "metadata": {
        "id": "8kPdyJSFyaF0",
        "colab": {
          "base_uri": "https://localhost:8080/",
          "height": 265
        },
        "outputId": "de927c6a-f0d2-42a1-a66f-d5ff4fc5c267"
      },
      "id": "8kPdyJSFyaF0",
      "execution_count": 76,
      "outputs": [
        {
          "output_type": "display_data",
          "data": {
            "text/plain": [
              "<Figure size 432x288 with 1 Axes>"
            ],
            "image/png": "[encoded data removed]"
          },
          "metadata": {
            "needs_background": "light"
          }
        }
      ]
    },
    {
      "cell_type": "markdown",
      "source": [
        "## Predictores"
      ],
      "metadata": {
        "id": "SzPPEaPYbJ69"
      },
      "id": "SzPPEaPYbJ69"
    },
    {
      "cell_type": "markdown",
      "source": [
        "Por default, la función .forecast() utiliza una confianza del 95%"
      ],
      "metadata": {
        "id": "UmTv8v21bAgV"
      },
      "id": "UmTv8v21bAgV"
    },
    {
      "cell_type": "markdown",
      "source": [
        "### Para *l* = 1"
      ],
      "metadata": {
        "id": "qPRfmnKdW4qH"
      },
      "id": "qPRfmnKdW4qH"
    },
    {
      "cell_type": "code",
      "source": [
        "import statsmodels.api as sm\n",
        "\n",
        "# TRAEMOS EL MODELO ESTIMADO\n",
        "mod = model = ARIMA(s, order=(4,1,3))\n",
        "res = mod.fit()\n",
        "\n",
        "l = 1\n",
        "t1 = res.forecast(steps = l)[0][0]\n",
        "\n",
        "print(\"El valor de la serie en t + 1 es\", round(t1,4))\n",
        "\n"
      ],
      "metadata": {
        "colab": {
          "base_uri": "https://localhost:8080/"
        },
        "id": "FSd7Y2j_Ugds",
        "outputId": "68907c3f-014b-4b42-864a-264e0f420e20"
      },
      "id": "FSd7Y2j_Ugds",
      "execution_count": 77,
      "outputs": [
        {
          "output_type": "stream",
          "name": "stdout",
          "text": [
            "El valor de la serie en t + 1 es 47.2047\n"
          ]
        }
      ]
    },
    {
      "cell_type": "markdown",
      "source": [
        "### Para *l* = 2"
      ],
      "metadata": {
        "id": "HcDazMiBaOLc"
      },
      "id": "HcDazMiBaOLc"
    },
    {
      "cell_type": "code",
      "source": [
        "i = 1\n",
        "l = 2\n",
        "t = []\n",
        "\n",
        "for i in range(1,3):\n",
        "  t.append(res.forecast(steps = i)[0])\n",
        "\n",
        "print(\n",
        "    \"El valor de la serie en t + 1 es\", round(t[0][0],4),\n",
        "    \"\\nEl valor de la serie en t + 2 es\", round(t[1][1],4),\n",
        "    )"
      ],
      "metadata": {
        "colab": {
          "base_uri": "https://localhost:8080/"
        },
        "id": "4Me51Rw5aSli",
        "outputId": "afceb5f9-2a3e-4e68-b40a-b8a71e6baf60"
      },
      "id": "4Me51Rw5aSli",
      "execution_count": 78,
      "outputs": [
        {
          "output_type": "stream",
          "name": "stdout",
          "text": [
            "El valor de la serie en t + 1 es 47.2047 \n",
            "El valor de la serie en t + 2 es 62.6832\n"
          ]
        }
      ]
    },
    {
      "cell_type": "markdown",
      "source": [
        "### Para *l* = 5"
      ],
      "metadata": {
        "id": "m5JrfveQXB6p"
      },
      "id": "m5JrfveQXB6p"
    },
    {
      "cell_type": "code",
      "source": [
        "i = 1\n",
        "l = 5\n",
        "t = []\n",
        "\n",
        "for i in range(1,6):\n",
        "  t.append(res.forecast(steps = i)[0])\n",
        "\n",
        "print(\n",
        "    \"El valor de la serie en t + 1 es\", round(t[0][0],4),\n",
        "    \"\\nEl valor de la serie en t + 2 es\", round(t[1][1],4),\n",
        "    \"\\nEl valor de la serie en t + 3 es\", round(t[2][2],4),\n",
        "    \"\\nEl valor de la serie en t + 4 es\", round(t[3][3],4),\n",
        "    \"\\nEl valor de la serie en t + 5 es\", round(t[4][4],4)\n",
        "    )"
      ],
      "metadata": {
        "colab": {
          "base_uri": "https://localhost:8080/"
        },
        "id": "BvUGCuoDXCOI",
        "outputId": "c32af8c5-9906-4da4-b807-aa41e42ee5bc"
      },
      "id": "BvUGCuoDXCOI",
      "execution_count": 79,
      "outputs": [
        {
          "output_type": "stream",
          "name": "stdout",
          "text": [
            "El valor de la serie en t + 1 es 47.2047 \n",
            "El valor de la serie en t + 2 es 62.6832 \n",
            "El valor de la serie en t + 3 es 72.8735 \n",
            "El valor de la serie en t + 4 es 48.0026 \n",
            "El valor de la serie en t + 5 es 34.3688\n"
          ]
        }
      ]
    },
    {
      "cell_type": "markdown",
      "source": [
        "### Para *l* = 10"
      ],
      "metadata": {
        "id": "mDdObNI8ZCXe"
      },
      "id": "mDdObNI8ZCXe"
    },
    {
      "cell_type": "code",
      "source": [
        "i = 1\n",
        "l = 10\n",
        "t = []\n",
        "\n",
        "for i in range(1,11):\n",
        "  t.append(res.forecast(steps = i)[0])\n",
        "\n",
        "print(\n",
        "    \"El valor de la serie en t + 1 es\", round(t[0][0],4),\n",
        "    \"\\nEl valor de la serie en t + 2 es\", round(t[1][1],4),\n",
        "    \"\\nEl valor de la serie en t + 3 es\", round(t[2][2],4),\n",
        "    \"\\nEl valor de la serie en t + 4 es\", round(t[3][3],4),\n",
        "    \"\\nEl valor de la serie en t + 5 es\", round(t[4][4],4),\n",
        "    \"\\nEl valor de la serie en t + 6 es\", round(t[5][5],4),\n",
        "    \"\\nEl valor de la serie en t + 7 es\", round(t[6][6],4),\n",
        "    \"\\nEl valor de la serie en t + 8 es\", round(t[7][7],4),\n",
        "    \"\\nEl valor de la serie en t + 9 es\", round(t[8][8],4),\n",
        "    \"\\nEl valor de la serie en t + 10 es\", round(t[9][9])\n",
        "    )"
      ],
      "metadata": {
        "colab": {
          "base_uri": "https://localhost:8080/"
        },
        "id": "tNNW-7HIZBzV",
        "outputId": "cb128181-bd62-487e-d99d-f3cff650337c"
      },
      "id": "tNNW-7HIZBzV",
      "execution_count": 80,
      "outputs": [
        {
          "output_type": "stream",
          "name": "stdout",
          "text": [
            "El valor de la serie en t + 1 es 47.2047 \n",
            "El valor de la serie en t + 2 es 62.6832 \n",
            "El valor de la serie en t + 3 es 72.8735 \n",
            "El valor de la serie en t + 4 es 48.0026 \n",
            "El valor de la serie en t + 5 es 34.3688 \n",
            "El valor de la serie en t + 6 es 44.136 \n",
            "El valor de la serie en t + 7 es 40.777 \n",
            "El valor de la serie en t + 8 es 39.6847 \n",
            "El valor de la serie en t + 9 es 42.6628 \n",
            "El valor de la serie en t + 10 es 41\n"
          ]
        }
      ]
    },
    {
      "cell_type": "markdown",
      "source": [
        "## Intervalos de Confianza"
      ],
      "metadata": {
        "id": "gwulZRkNbNSW"
      },
      "id": "gwulZRkNbNSW"
    },
    {
      "cell_type": "markdown",
      "source": [
        "### Para *l* = 1"
      ],
      "metadata": {
        "id": "EK-wySadbP_2"
      },
      "id": "EK-wySadbP_2"
    },
    {
      "cell_type": "markdown",
      "source": [
        "#### Confianza 95%"
      ],
      "metadata": {
        "id": "QynLmvF2bzzD"
      },
      "id": "QynLmvF2bzzD"
    },
    {
      "cell_type": "code",
      "source": [
        "l = 1\n",
        "ic1_5 = res.forecast(steps = l)[2]\n",
        "\n",
        "print(\"El Intervalo de Confianza de la serie en t + 1, con un alpha de 5%, es: \", ic1_5)"
      ],
      "metadata": {
        "colab": {
          "base_uri": "https://localhost:8080/"
        },
        "id": "77rjqCeFbTMK",
        "outputId": "94431dd5-5e64-4367-d8b5-72122bbb352b"
      },
      "id": "77rjqCeFbTMK",
      "execution_count": 81,
      "outputs": [
        {
          "output_type": "stream",
          "name": "stdout",
          "text": [
            "El Intervalo de Confianza de la serie en t + 1, con un alpha de 5%, es:  [[35.48366247 58.9257    ]]\n"
          ]
        }
      ]
    },
    {
      "cell_type": "markdown",
      "source": [
        "#### Confianza 97,5%"
      ],
      "metadata": {
        "id": "h3BD8iajb3VO"
      },
      "id": "h3BD8iajb3VO"
    },
    {
      "cell_type": "code",
      "source": [
        "l = 1\n",
        "ic1_975 = res.forecast(steps = l, alpha = 0.025)[2]\n",
        "\n",
        "print(\"El Intervalo de Confianza de la serie en t + 1, con un alpha de 2.5%, es: \", ic1_975)"
      ],
      "metadata": {
        "colab": {
          "base_uri": "https://localhost:8080/"
        },
        "id": "Py_CIgYMb6X_",
        "outputId": "f154c23a-f608-4261-e6ae-373a6b27813a"
      },
      "id": "Py_CIgYMb6X_",
      "execution_count": 82,
      "outputs": [
        {
          "output_type": "stream",
          "name": "stdout",
          "text": [
            "El Intervalo de Confianza de la serie en t + 1, con un alpha de 2.5%, es:  [[33.80059645 60.60876603]]\n"
          ]
        }
      ]
    },
    {
      "cell_type": "markdown",
      "source": [
        "#### Confianza 99%"
      ],
      "metadata": {
        "id": "_ciJwY2qcHOT"
      },
      "id": "_ciJwY2qcHOT"
    },
    {
      "cell_type": "code",
      "source": [
        "l = 1\n",
        "ic1_99 = res.forecast(steps = l, alpha = 0.01)[2]\n",
        "\n",
        "print(\"El Intervalo de Confianza de la serie en t + 1, con un alpha de 1%, es: \", ic1_99)"
      ],
      "metadata": {
        "colab": {
          "base_uri": "https://localhost:8080/"
        },
        "id": "lpmh1F-ucJSN",
        "outputId": "165824c2-f69c-40ed-9823-61e19a7b5627"
      },
      "id": "lpmh1F-ucJSN",
      "execution_count": 83,
      "outputs": [
        {
          "output_type": "stream",
          "name": "stdout",
          "text": [
            "El Intervalo de Confianza de la serie en t + 1, con un alpha de 1%, es:  [[31.80065145 62.60871103]]\n"
          ]
        }
      ]
    },
    {
      "cell_type": "markdown",
      "source": [
        "### Para *l* = 2"
      ],
      "metadata": {
        "id": "-_fZI9UobnX8"
      },
      "id": "-_fZI9UobnX8"
    },
    {
      "cell_type": "markdown",
      "source": [
        "#### Confianza 95%"
      ],
      "metadata": {
        "id": "L2i2pZ7OcSSZ"
      },
      "id": "L2i2pZ7OcSSZ"
    },
    {
      "cell_type": "code",
      "source": [
        "i = 1\n",
        "l = 2\n",
        "ic2 = []\n",
        "\n",
        "for i in range(1,3):\n",
        "  ic2.append(res.forecast(steps = i, alpha = 0.05)[2])\n",
        "\n",
        "print(\n",
        "    \"El Intervalo de Confianza de la serie en t + 1, con un alpha de 5%, es: \", ic2[0][0],\n",
        "    \"\\nEl Intervalo de Confianza de la serie en t + 2, con un alpha de 5%, es: \", ic2[1][1],\n",
        "    )"
      ],
      "metadata": {
        "colab": {
          "base_uri": "https://localhost:8080/"
        },
        "id": "XRYDh0C_brs6",
        "outputId": "299f10b9-d713-4902-b842-ee630f456a6f"
      },
      "id": "XRYDh0C_brs6",
      "execution_count": 84,
      "outputs": [
        {
          "output_type": "stream",
          "name": "stdout",
          "text": [
            "El Intervalo de Confianza de la serie en t + 1, con un alpha de 5%, es:  [35.48366247 58.9257    ] \n",
            "El Intervalo de Confianza de la serie en t + 2, con un alpha de 5%, es:  [49.69032371 75.67598785]\n"
          ]
        }
      ]
    },
    {
      "cell_type": "markdown",
      "source": [
        "#### Confianza 97.5%"
      ],
      "metadata": {
        "id": "y6GUVODWcuz9"
      },
      "id": "y6GUVODWcuz9"
    },
    {
      "cell_type": "code",
      "source": [
        "i = 1\n",
        "l = 2\n",
        "ic2 = []\n",
        "\n",
        "for i in range(1,3):\n",
        "  ic2.append(res.forecast(steps = i, alpha = 0.025)[2])\n",
        "\n",
        "print(\n",
        "    \"El Intervalo de Confianza de la serie en t + 1, con un alpha de 2.5%, es: \", ic2[0][0],\n",
        "    \"\\nEl Intervalo de Confianza de la serie en t + 2, con un alpha de 2.5%, es: \", ic2[1][1],\n",
        "    )"
      ],
      "metadata": {
        "colab": {
          "base_uri": "https://localhost:8080/"
        },
        "id": "dSiFeR4Mcykl",
        "outputId": "3d5cf414-5b9a-46c6-a8bc-93c8a54be0ad"
      },
      "id": "dSiFeR4Mcykl",
      "execution_count": 85,
      "outputs": [
        {
          "output_type": "stream",
          "name": "stdout",
          "text": [
            "El Intervalo de Confianza de la serie en t + 1, con un alpha de 2.5%, es:  [33.80059645 60.60876603] \n",
            "El Intervalo de Confianza de la serie en t + 2, con un alpha de 2.5%, es:  [47.82463314 77.54167842]\n"
          ]
        }
      ]
    },
    {
      "cell_type": "markdown",
      "source": [
        "#### Confianza 99%"
      ],
      "metadata": {
        "id": "C9tu-Z8vc2cw"
      },
      "id": "C9tu-Z8vc2cw"
    },
    {
      "cell_type": "code",
      "source": [
        "i = 1\n",
        "l = 2\n",
        "ic2 = []\n",
        "\n",
        "for i in range(1,3):\n",
        "  ic2.append(res.forecast(steps = i, alpha = 0.01)[2])\n",
        "\n",
        "print(\n",
        "    \"El Intervalo de Confianza de la serie en t + 1, con un alpha de 1%, es: \", ic2[0][0],\n",
        "    \"\\nEl Intervalo de Confianza de la serie en t + 2, con un alpha de 1%, es: \", ic2[1][1],\n",
        "    )"
      ],
      "metadata": {
        "colab": {
          "base_uri": "https://localhost:8080/"
        },
        "id": "umHRw3bLc4YP",
        "outputId": "9e05d8d5-1b63-4740-9e12-b9098675824e"
      },
      "id": "umHRw3bLc4YP",
      "execution_count": 86,
      "outputs": [
        {
          "output_type": "stream",
          "name": "stdout",
          "text": [
            "El Intervalo de Confianza de la serie en t + 1, con un alpha de 1%, es:  [31.80065145 62.60871103] \n",
            "El Intervalo de Confianza de la serie en t + 2, con un alpha de 1%, es:  [45.60767999 79.75863158]\n"
          ]
        }
      ]
    },
    {
      "cell_type": "markdown",
      "source": [
        "### Para *l* = 5"
      ],
      "metadata": {
        "id": "RvT9YPqBdCFP"
      },
      "id": "RvT9YPqBdCFP"
    },
    {
      "cell_type": "markdown",
      "source": [
        "#### Confianza 95%"
      ],
      "metadata": {
        "id": "A6nHZMrjdK8U"
      },
      "id": "A6nHZMrjdK8U"
    },
    {
      "cell_type": "code",
      "source": [
        "i = 1\n",
        "l = 5\n",
        "t = []\n",
        "\n",
        "for i in range(1,6):\n",
        "  t.append(res.forecast(steps = i, alpha = 0.05)[2])\n",
        "\n",
        "print(\n",
        "    \"El Intervalo de Confianza de la serie en t + 1, con un alpha de 5%, es: \", t[0][0],\n",
        "    \"\\nEl Intervalo de Confianza de la serie en t + 2, con un alpha de 5%, es: \", t[1][1],\n",
        "    \"\\nEl Intervalo de Confianza de la serie en t + 3, con un alpha de 5%, es: \", t[2][2],\n",
        "    \"\\nEl Intervalo de Confianza de la serie en t + 4, con un alpha de 5%, es: \", t[3][3],\n",
        "    \"\\nEl Intervalo de Confianza de la serie en t + 5, con un alpha de 5%, es: \", t[4][4]\n",
        "    )"
      ],
      "metadata": {
        "colab": {
          "base_uri": "https://localhost:8080/"
        },
        "id": "35Bvr_vJdjAD",
        "outputId": "ebcd2f8a-f3f8-46ec-f3a2-43458ab67e43"
      },
      "id": "35Bvr_vJdjAD",
      "execution_count": 87,
      "outputs": [
        {
          "output_type": "stream",
          "name": "stdout",
          "text": [
            "El Intervalo de Confianza de la serie en t + 1, con un alpha de 5%, es:  [35.48366247 58.9257    ] \n",
            "El Intervalo de Confianza de la serie en t + 2, con un alpha de 5%, es:  [49.69032371 75.67598785] \n",
            "El Intervalo de Confianza de la serie en t + 3, con un alpha de 5%, es:  [59.71903436 86.02793528] \n",
            "El Intervalo de Confianza de la serie en t + 4, con un alpha de 5%, es:  [34.76562301 61.23957941] \n",
            "El Intervalo de Confianza de la serie en t + 5, con un alpha de 5%, es:  [20.21918718 48.51840432]\n"
          ]
        }
      ]
    },
    {
      "cell_type": "markdown",
      "source": [
        "#### Confianza 97.5%"
      ],
      "metadata": {
        "id": "K59Cjr74d5Gg"
      },
      "id": "K59Cjr74d5Gg"
    },
    {
      "cell_type": "code",
      "source": [
        "i = 1\n",
        "l = 5\n",
        "t = []\n",
        "\n",
        "for i in range(1,6):\n",
        "  t.append(res.forecast(steps = i,alpha = 0.025)[2])\n",
        "\n",
        "print(\n",
        "    \"El Intervalo de Confianza de la serie en t + 1, con un alpha de 2.5%, es: \", t[0][0],\n",
        "    \"\\nEl Intervalo de Confianza de la serie en t + 2, con un alpha de 2.5%, es: \", t[1][1],\n",
        "    \"\\nEl Intervalo de Confianza de la serie en t + 3, con un alpha de 2.5%, es: \", t[2][2],\n",
        "    \"\\nEl Intervalo de Confianza de la serie en t + 4, con un alpha de 2.5%, es: \", t[3][3],\n",
        "    \"\\nEl Intervalo de Confianza de la serie en t + 5, con un alpha de 2.5%, es: \", t[4][4]\n",
        "    )"
      ],
      "metadata": {
        "colab": {
          "base_uri": "https://localhost:8080/"
        },
        "id": "yq93YLjjd7-A",
        "outputId": "5d385762-4ac7-476c-ba98-8d74d7eb401e"
      },
      "id": "yq93YLjjd7-A",
      "execution_count": 88,
      "outputs": [
        {
          "output_type": "stream",
          "name": "stdout",
          "text": [
            "El Intervalo de Confianza de la serie en t + 1, con un alpha de 2.5%, es:  [33.80059645 60.60876603] \n",
            "El Intervalo de Confianza de la serie en t + 2, con un alpha de 2.5%, es:  [47.82463314 77.54167842] \n",
            "El Intervalo de Confianza de la serie en t + 3, con un alpha de 2.5%, es:  [57.83013639 87.91683326] \n",
            "El Intervalo de Confianza de la serie en t + 4, con un alpha de 2.5%, es:  [32.86487456 63.14032786] \n",
            "El Intervalo de Confianza de la serie en t + 5, con un alpha de 2.5%, es:  [18.18739064 50.55020087]\n"
          ]
        }
      ]
    },
    {
      "cell_type": "markdown",
      "source": [
        "#### Confianza 99%"
      ],
      "metadata": {
        "id": "kw3f_hlVeFWQ"
      },
      "id": "kw3f_hlVeFWQ"
    },
    {
      "cell_type": "code",
      "source": [
        "i = 1\n",
        "l = 5\n",
        "t = []\n",
        "\n",
        "for i in range(1,6):\n",
        "  t.append(res.forecast(steps = i,alpha = 0.01)[2])\n",
        "\n",
        "print(\n",
        "    \"El Intervalo de Confianza de la serie en t + 1, con un alpha de 1%, es: \", t[0][0],\n",
        "    \"\\nEl Intervalo de Confianza de la serie en t + 2, con un alpha de 1%, es: \", t[1][1],\n",
        "    \"\\nEl Intervalo de Confianza de la serie en t + 3, con un alpha de 1%, es: \", t[2][2],\n",
        "    \"\\nEl Intervalo de Confianza de la serie en t + 4, con un alpha de 1%, es: \", t[3][3],\n",
        "    \"\\nEl Intervalo de Confianza de la serie en t + 5, con un alpha de 1%, es: \", t[4][4]\n",
        "    )"
      ],
      "metadata": {
        "colab": {
          "base_uri": "https://localhost:8080/"
        },
        "id": "33cXkxbOeHnp",
        "outputId": "f78e3140-f134-4dcb-ad0b-d1f8e56e68a7"
      },
      "id": "33cXkxbOeHnp",
      "execution_count": 89,
      "outputs": [
        {
          "output_type": "stream",
          "name": "stdout",
          "text": [
            "El Intervalo de Confianza de la serie en t + 1, con un alpha de 1%, es:  [31.80065145 62.60871103] \n",
            "El Intervalo de Confianza de la serie en t + 2, con un alpha de 1%, es:  [45.60767999 79.75863158] \n",
            "El Intervalo de Confianza de la serie en t + 3, con un alpha de 1%, es:  [55.58560646 90.16136319] \n",
            "El Intervalo de Confianza de la serie en t + 4, con un alpha de 1%, es:  [30.60626301 65.39893941] \n",
            "El Intervalo de Confianza de la serie en t + 5, con un alpha de 1%, es:  [15.77305793 52.96453357]\n"
          ]
        }
      ]
    },
    {
      "cell_type": "markdown",
      "source": [
        "### Para *l* = 10"
      ],
      "metadata": {
        "id": "-15to7JMeShD"
      },
      "id": "-15to7JMeShD"
    },
    {
      "cell_type": "markdown",
      "source": [
        "#### Confianza 95%"
      ],
      "metadata": {
        "id": "YHxMObfUeVdT"
      },
      "id": "YHxMObfUeVdT"
    },
    {
      "cell_type": "code",
      "source": [
        "i = 1\n",
        "l = 10\n",
        "t = []\n",
        "\n",
        "for i in range(1,11):\n",
        "  t.append(res.forecast(steps = i, alpha = 0.05)[2])\n",
        "\n",
        "print(\n",
        "    \"El Intervalo de Confianza de la serie en t + 1, con un alpha de 5%, es: \", t[0][0],\n",
        "    \"\\nEl Intervalo de Confianza de la serie en t + 2, con un alpha de 5%, es: \", t[1][1],\n",
        "    \"\\nEl Intervalo de Confianza de la serie en t + 3, con un alpha de 5%, es: \", t[2][2],\n",
        "    \"\\nEl Intervalo de Confianza de la serie en t + 4, con un alpha de 5%, es: \", t[3][3],\n",
        "    \"\\nEl Intervalo de Confianza de la serie en t + 5, con un alpha de 5%, es: \", t[4][4],\n",
        "    \"\\nEl Intervalo de Confianza de la serie en t + 6, con un alpha de 5%, es: \", t[5][5],\n",
        "    \"\\nEl Intervalo de Confianza de la serie en t + 7, con un alpha de 5%, es: \", t[6][6],\n",
        "    \"\\nEl Intervalo de Confianza de la serie en t + 8, con un alpha de 5%, es: \", t[7][7],\n",
        "    \"\\nEl Intervalo de Confianza de la serie en t + 9, con un alpha de 5%, es: \", t[8][8],\n",
        "    \"\\nEl Intervalo de Confianza de la serie en t + 10, con un alpha de 5%, es: \", t[9][9]\n",
        "    )"
      ],
      "metadata": {
        "colab": {
          "base_uri": "https://localhost:8080/"
        },
        "id": "TyBjoz6ueRxS",
        "outputId": "fccc671e-425d-441b-cc81-9647ab8ce00e"
      },
      "id": "TyBjoz6ueRxS",
      "execution_count": 90,
      "outputs": [
        {
          "output_type": "stream",
          "name": "stdout",
          "text": [
            "El Intervalo de Confianza de la serie en t + 1, con un alpha de 5%, es:  [35.48366247 58.9257    ] \n",
            "El Intervalo de Confianza de la serie en t + 2, con un alpha de 5%, es:  [49.69032371 75.67598785] \n",
            "El Intervalo de Confianza de la serie en t + 3, con un alpha de 5%, es:  [59.71903436 86.02793528] \n",
            "El Intervalo de Confianza de la serie en t + 4, con un alpha de 5%, es:  [34.76562301 61.23957941] \n",
            "El Intervalo de Confianza de la serie en t + 5, con un alpha de 5%, es:  [20.21918718 48.51840432] \n",
            "El Intervalo de Confianza de la serie en t + 6, con un alpha de 5%, es:  [29.97564004 58.29644077] \n",
            "El Intervalo de Confianza de la serie en t + 7, con un alpha de 5%, es:  [26.16530373 55.38870462] \n",
            "El Intervalo de Confianza de la serie en t + 8, con un alpha de 5%, es:  [24.84148138 54.52787989] \n",
            "El Intervalo de Confianza de la serie en t + 9, con un alpha de 5%, es:  [27.67046164 57.65508098] \n",
            "El Intervalo de Confianza de la serie en t + 10, con un alpha de 5%, es:  [25.24962167 55.86705581]\n"
          ]
        }
      ]
    },
    {
      "cell_type": "markdown",
      "source": [
        "#### Confianza 97.5%"
      ],
      "metadata": {
        "id": "vCwPojIGfHg6"
      },
      "id": "vCwPojIGfHg6"
    },
    {
      "cell_type": "code",
      "source": [
        "i = 1\n",
        "l = 10\n",
        "t = []\n",
        "\n",
        "for i in range(1,11):\n",
        "  t.append(res.forecast(steps = i, alpha = 0.025)[2])\n",
        "\n",
        "print(\n",
        "    \"El Intervalo de Confianza de la serie en t + 1, con un alpha de 2.5%, es: \", t[0][0],\n",
        "    \"\\nEl Intervalo de Confianza de la serie en t + 2, con un alpha de 2.5%, es: \", t[1][1],\n",
        "    \"\\nEl Intervalo de Confianza de la serie en t + 3, con un alpha de 2.5%, es: \", t[2][2],\n",
        "    \"\\nEl Intervalo de Confianza de la serie en t + 4, con un alpha de 2.5%, es: \", t[3][3],\n",
        "    \"\\nEl Intervalo de Confianza de la serie en t + 5, con un alpha de 2.5%, es: \", t[4][4],\n",
        "    \"\\nEl Intervalo de Confianza de la serie en t + 6, con un alpha de 2.5%, es: \", t[5][5],\n",
        "    \"\\nEl Intervalo de Confianza de la serie en t + 7, con un alpha de 2.5%, es: \", t[6][6],\n",
        "    \"\\nEl Intervalo de Confianza de la serie en t + 8, con un alpha de 2.5%, es: \", t[7][7],\n",
        "    \"\\nEl Intervalo de Confianza de la serie en t + 9, con un alpha de 2.5%, es: \", t[8][8],\n",
        "    \"\\nEl Intervalo de Confianza de la serie en t + 10, con un alpha de 2.5%, es: \", t[9][9]\n",
        "    )"
      ],
      "metadata": {
        "colab": {
          "base_uri": "https://localhost:8080/"
        },
        "id": "mm1TYfoFfJo6",
        "outputId": "564155d6-049a-4f0f-fe32-436cd46777fa"
      },
      "id": "mm1TYfoFfJo6",
      "execution_count": 91,
      "outputs": [
        {
          "output_type": "stream",
          "name": "stdout",
          "text": [
            "El Intervalo de Confianza de la serie en t + 1, con un alpha de 2.5%, es:  [33.80059645 60.60876603] \n",
            "El Intervalo de Confianza de la serie en t + 2, con un alpha de 2.5%, es:  [47.82463314 77.54167842] \n",
            "El Intervalo de Confianza de la serie en t + 3, con un alpha de 2.5%, es:  [57.83013639 87.91683326] \n",
            "El Intervalo de Confianza de la serie en t + 4, con un alpha de 2.5%, es:  [32.86487456 63.14032786] \n",
            "El Intervalo de Confianza de la serie en t + 5, con un alpha de 2.5%, es:  [18.18739064 50.55020087] \n",
            "El Intervalo de Confianza de la serie en t + 6, con un alpha de 2.5%, es:  [27.94229386 60.32978695] \n",
            "El Intervalo de Confianza de la serie en t + 7, con un alpha de 2.5%, es:  [24.06715364 57.48685471] \n",
            "El Intervalo de Confianza de la serie en t + 8, con un alpha de 2.5%, es:  [22.71008949 56.65927178] \n",
            "El Intervalo de Confianza de la serie en t + 9, con un alpha de 2.5%, es:  [25.51765841 59.8078842 ] \n",
            "El Intervalo de Confianza de la serie en t + 10, con un alpha de 2.5%, es:  [23.05138429 58.06529319]\n"
          ]
        }
      ]
    },
    {
      "cell_type": "markdown",
      "source": [
        "#### Confianza 99%"
      ],
      "metadata": {
        "id": "8QhsOywxfQWT"
      },
      "id": "8QhsOywxfQWT"
    },
    {
      "cell_type": "code",
      "source": [
        "i = 1\n",
        "l = 10\n",
        "t = []\n",
        "\n",
        "for i in range(1,11):\n",
        "  t.append(res.forecast(steps = i, alpha = 0.001)[2])\n",
        "\n",
        "print(\n",
        "    \"El Intervalo de Confianza de la serie en t + 1, con un alpha de 1%, es: \", t[0][0],\n",
        "    \"\\nEl Intervalo de Confianza de la serie en t + 2, con un alpha de 1%, es: \", t[1][1],\n",
        "    \"\\nEl Intervalo de Confianza de la serie en t + 3, con un alpha de 1%, es: \", t[2][2],\n",
        "    \"\\nEl Intervalo de Confianza de la serie en t + 4, con un alpha de 1%, es: \", t[3][3],\n",
        "    \"\\nEl Intervalo de Confianza de la serie en t + 5, con un alpha de 1%, es: \", t[4][4],\n",
        "    \"\\nEl Intervalo de Confianza de la serie en t + 6, con un alpha de 1%, es: \", t[5][5],\n",
        "    \"\\nEl Intervalo de Confianza de la serie en t + 7, con un alpha de 1%, es: \", t[6][6],\n",
        "    \"\\nEl Intervalo de Confianza de la serie en t + 8, con un alpha de 1%, es: \", t[7][7],\n",
        "    \"\\nEl Intervalo de Confianza de la serie en t + 9, con un alpha de 1%, es: \", t[8][8],\n",
        "    \"\\nEl Intervalo de Confianza de la serie en t + 10, con un alpha de 1%, es: \", t[9][9]\n",
        "    )"
      ],
      "metadata": {
        "colab": {
          "base_uri": "https://localhost:8080/"
        },
        "id": "MGItcuz1fSf7",
        "outputId": "c18e8027-8984-4a71-a192-5786bcd685b1"
      },
      "id": "MGItcuz1fSf7",
      "execution_count": 92,
      "outputs": [
        {
          "output_type": "stream",
          "name": "stdout",
          "text": [
            "El Intervalo de Confianza de la serie en t + 1, con un alpha de 1%, es:  [27.52660252 66.88275995] \n",
            "El Intervalo de Confianza de la serie en t + 2, con un alpha de 1%, es:  [40.86986657 84.49644499] \n",
            "El Intervalo de Confianza de la serie en t + 3, con un alpha de 1%, es:  [50.78885918 94.95811047] \n",
            "El Intervalo de Confianza de la serie en t + 4, con un alpha de 1%, es:  [25.77942214 70.22578029] \n",
            "El Intervalo de Confianza de la serie en t + 5, con un alpha de 1%, es:  [10.613428   58.12416351] \n",
            "El Intervalo de Confianza de la serie en t + 6, con un alpha de 1%, es:  [20.36255462 67.9095262 ] \n",
            "El Intervalo de Confianza de la serie en t + 7, con un alpha de 1%, es:  [16.24584376 65.30816459] \n",
            "El Intervalo de Confianza de la serie en t + 8, con un alpha de 1%, es:  [14.76486358 64.60449769] \n",
            "El Intervalo de Confianza de la serie en t + 9, con un alpha de 1%, es:  [17.4926171  67.83292552] \n",
            "El Intervalo de Confianza de la serie en t + 10, con un alpha de 1%, es:  [14.85697732 66.25970016]\n"
          ]
        }
      ]
    },
    {
      "cell_type": "markdown",
      "source": [
        "# Análisis de los Resiudos sobre Serie Diferenciada"
      ],
      "metadata": {
        "id": "PQrx1kh3yDG8"
      },
      "id": "PQrx1kh3yDG8"
    },
    {
      "cell_type": "code",
      "source": [
        "# Plot residual errors\n",
        "residuals = pd.DataFrame(model_fit1.resid)\n",
        "fig, ax = plt.subplots(1,2)\n",
        "residuals.plot(title=\"Residuos\", ax=ax[0])\n",
        "residuals.plot(kind='kde', title='Densidad', ax=ax[1])\n",
        "plt.show()"
      ],
      "metadata": {
        "id": "TXfndYXZyCRN",
        "colab": {
          "base_uri": "https://localhost:8080/",
          "height": 281
        },
        "outputId": "f6a15eb5-612d-4d42-ede5-dbe70d3b052a"
      },
      "id": "TXfndYXZyCRN",
      "execution_count": 93,
      "outputs": [
        {
          "output_type": "display_data",
          "data": {
            "text/plain": [
              "<Figure size 432x288 with 2 Axes>"
            ],
            "image/png": "[encoded data removed]"
          },
          "metadata": {
            "needs_background": "light"
          }
        }
      ]
    },
    {
      "cell_type": "markdown",
      "source": [
        "### Test Ljung Box\n",
        "\n",
        "Test para probar incorrelación de los resiudos. \n",
        "\n",
        "* **Hipótesis**:\n",
        "    * **H0**: Residuos incorrelacionados\n",
        "    * **H1**: Residuos correlacionados.\n",
        "    \n",
        "* **P-value**:\n",
        "    * p-value > 0.05: No rechazo H0 por lo que se puede sostener la hipótesis de residuos incorrelacionados\n",
        "    * p-value <= 0.05: Rechazo la H0; por lo que se puede sostener que los residuos están correlacionados"
      ],
      "metadata": {
        "id": "hddzT_FQyy5r"
      },
      "id": "hddzT_FQyy5r"
    },
    {
      "cell_type": "code",
      "source": [
        "from statsmodels.tsa.stattools import q_stat\n",
        "\n",
        "test_lb = q_stat(acf(sdf.dropna()), nobs=10)\n",
        "\n",
        "print('Valor del test: {}'.format(test_lb[0][0]))\n",
        "print('p-value: {}'.format(test_lb[1][0]))\n",
        "\n",
        "def test_ljung_box(serie,alpha):\n",
        "    test = q_stat(serie, nobs=10)\n",
        "    dkf, pv = test[0][0], test[1][0]\n",
        "    \n",
        "    if pv > alpha:\n",
        "        print(\"El p-value ({}) es mayor que el alpha ({}).\".format(pv,alpha))\n",
        "        print(\"NO rechazo H0.\")\n",
        "        \n",
        "    else:\n",
        "        print(\"El p-value ({}) es menor que el alpha ({}).\".format(pv,alpha))\n",
        "        print(\"Rechazo H0.\")\n",
        "    \n",
        "    return dkf, pv\n",
        "\n",
        "test_ljung_box(acf(sdf.dropna()), alpha = 0.05)"
      ],
      "metadata": {
        "id": "sgJCDd8hyjLm",
        "colab": {
          "base_uri": "https://localhost:8080/"
        },
        "outputId": "5c853c9d-36a8-4ad7-e4cc-113389678de5"
      },
      "id": "sgJCDd8hyjLm",
      "execution_count": 94,
      "outputs": [
        {
          "output_type": "stream",
          "name": "stdout",
          "text": [
            "Valor del test: 13.333333333333332\n",
            "p-value: 0.0002607296328553169\n",
            "El p-value (0.0002607296328553169) es menor que el alpha (0.05).\n",
            "Rechazo H0.\n"
          ]
        },
        {
          "output_type": "stream",
          "name": "stderr",
          "text": [
            "/usr/local/lib/python3.7/dist-packages/statsmodels/tsa/stattools.py:541: FutureWarning: fft=True will become the default in a future version of statsmodels. To suppress this warning, explicitly set fft=False.\n",
            "  warnings.warn(msg, FutureWarning)\n",
            "/usr/local/lib/python3.7/dist-packages/statsmodels/tsa/stattools.py:469: RuntimeWarning: divide by zero encountered in true_divide\n",
            "  np.cumsum((1. / (nobs - np.arange(1, len(x) + 1))) * x**2))\n"
          ]
        },
        {
          "output_type": "execute_result",
          "data": {
            "text/plain": [
              "(13.333333333333332, 0.0002607296328553169)"
            ]
          },
          "metadata": {},
          "execution_count": 94
        }
      ]
    },
    {
      "cell_type": "markdown",
      "source": [
        "### Test Jarque Bera\n",
        "\n",
        "Test para probar la normalidad de los residuos. \n",
        "\n",
        "* **Hipótesis**:\n",
        "    * **H0**: Residuos se distribuyen normalmente.\n",
        "    * **H1**: No específica.\n",
        "    \n",
        "* **P-value**:\n",
        "    * p-value > 0.05: No rechazo H0 por lo que se puede sostener la hipótesis de residuos normales.\n",
        "    * p-value <= 0.05: Rechazo la H0; por lo que se desconoce la distribución de los residuos."
      ],
      "metadata": {
        "id": "zUrGE-2JzsM-"
      },
      "id": "zUrGE-2JzsM-"
    },
    {
      "cell_type": "code",
      "source": [
        "from statsmodels.stats.stattools import jarque_bera\n",
        "\n",
        "test_jb = jarque_bera(model_fit1.resid)\n",
        "\n",
        "print('Valor del test: {}'.format(test_jb[0]))\n",
        "print('p-value: {}'.format(test_jb[1]))\n",
        "\n",
        "def test_jarque_bera(serie,alpha):\n",
        "    test = jarque_bera(serie)\n",
        "    dkf, pv = test[0], test[1]\n",
        "    \n",
        "    if pv > alpha:\n",
        "        print(\"El p-value ({}) es mayor que el alpha ({}).\".format(pv,alpha))\n",
        "        print(\"NO rechazo H0.\")\n",
        "        \n",
        "    else:\n",
        "        print(\"El p-value ({}) es menor que el alpha ({}).\".format(pv,alpha))\n",
        "        print(\"Rechazo H0.\")\n",
        "    \n",
        "    return dkf, pv\n",
        "\n",
        "test_jarque_bera(model_fit1.resid, alpha = 0.05)"
      ],
      "metadata": {
        "colab": {
          "base_uri": "https://localhost:8080/"
        },
        "id": "QOTNrcPmz_p7",
        "outputId": "8a7911e3-3b2c-4e91-fb2e-556f06783151"
      },
      "id": "QOTNrcPmz_p7",
      "execution_count": null,
      "outputs": [
        {
          "output_type": "stream",
          "name": "stdout",
          "text": [
            "Valor del test: 7359.259989600171\n",
            "p-value: 0.0\n",
            "El p-value (0.0) es menor que el alpha (0.05).\n",
            "Rechazo H0.\n"
          ]
        },
        {
          "output_type": "execute_result",
          "data": {
            "text/plain": [
              "(7359.259989600171, 0.0)"
            ]
          },
          "metadata": {},
          "execution_count": 46
        }
      ]
    }
  ],
  "metadata": {
    "colab": {
      "collapsed_sections": [
        "c5ca11af-050e-4271-8eef-5e2e2e9644be",
        "dQMHB7rOl4hS",
        "KRaWJSDawVdz",
        "1FyEh-CHwrnQ",
        "B9QnnPU7wxYf",
        "HSomOlTMxAfO",
        "SPhe0TsUxHxZ"
      ],
      "name": "TrabajoPracticoEA_1C2022.ipynb",
      "provenance": []
    },
    "kernelspec": {
      "display_name": "Python 3",
      "language": "python",
      "name": "python3"
    },
    "language_info": {
      "codemirror_mode": {
        "name": "ipython",
        "version": 3
      },
      "file_extension": ".py",
      "mimetype": "text/x-python",
      "name": "python",
      "nbconvert_exporter": "python",
      "pygments_lexer": "ipython3",
      "version": "3.8.8"
    }
  },
  "nbformat": 4,
  "nbformat_minor": 5
}